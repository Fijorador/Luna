{
 "cells": [
  {
   "cell_type": "code",
   "execution_count": 1,
   "id": "de235e00",
   "metadata": {},
   "outputs": [],
   "source": [
    "#Chaterbot Voice"
   ]
  },
  {
   "cell_type": "raw",
   "id": "379d9fdd",
   "metadata": {},
   "source": [
    "# Bibliotecas utilizadas"
   ]
  },
  {
   "cell_type": "code",
   "execution_count": 2,
   "id": "2c555296",
   "metadata": {
    "scrolled": true
   },
   "outputs": [
    {
     "name": "stdout",
     "output_type": "stream",
     "text": [
      "Requirement already satisfied: chatterbot==1.0.4 in c:\\users\\pichau\\anaconda3\\envs\\chatbotpython\\lib\\site-packages (1.0.4)\n",
      "Requirement already satisfied: pint>=0.8.1 in c:\\users\\pichau\\anaconda3\\envs\\chatbotpython\\lib\\site-packages (from chatterbot==1.0.4) (0.17)\n",
      "Requirement already satisfied: mathparse<0.2,>=0.1 in c:\\users\\pichau\\anaconda3\\envs\\chatbotpython\\lib\\site-packages (from chatterbot==1.0.4) (0.1.2)\n",
      "Requirement already satisfied: nltk<4.0,>=3.2 in c:\\users\\pichau\\anaconda3\\envs\\chatbotpython\\lib\\site-packages (from chatterbot==1.0.4) (3.6.2)\n",
      "Requirement already satisfied: python-dateutil<2.8,>=2.7 in c:\\users\\pichau\\anaconda3\\envs\\chatbotpython\\lib\\site-packages (from chatterbot==1.0.4) (2.7.5)\n",
      "Requirement already satisfied: pymongo<4.0,>=3.3 in c:\\users\\pichau\\anaconda3\\envs\\chatbotpython\\lib\\site-packages (from chatterbot==1.0.4) (3.12.0)\n",
      "Requirement already satisfied: sqlalchemy<1.3,>=1.2 in c:\\users\\pichau\\anaconda3\\envs\\chatbotpython\\lib\\site-packages (from chatterbot==1.0.4) (1.2.19)\n",
      "Requirement already satisfied: chatterbot-corpus<1.3,>=1.2 in c:\\users\\pichau\\anaconda3\\envs\\chatbotpython\\lib\\site-packages (from chatterbot==1.0.4) (1.2.0)\n",
      "Requirement already satisfied: PyYAML<4.0,>=3.12 in c:\\users\\pichau\\anaconda3\\envs\\chatbotpython\\lib\\site-packages (from chatterbot-corpus<1.3,>=1.2->chatterbot==1.0.4) (3.13)\n",
      "Requirement already satisfied: tqdm in c:\\users\\pichau\\anaconda3\\envs\\chatbotpython\\lib\\site-packages (from nltk<4.0,>=3.2->chatterbot==1.0.4) (4.62.2)\n",
      "Requirement already satisfied: click in c:\\users\\pichau\\anaconda3\\envs\\chatbotpython\\lib\\site-packages (from nltk<4.0,>=3.2->chatterbot==1.0.4) (7.1.2)\n",
      "Requirement already satisfied: joblib in c:\\users\\pichau\\anaconda3\\envs\\chatbotpython\\lib\\site-packages (from nltk<4.0,>=3.2->chatterbot==1.0.4) (1.0.1)\n",
      "Requirement already satisfied: regex in c:\\users\\pichau\\anaconda3\\envs\\chatbotpython\\lib\\site-packages (from nltk<4.0,>=3.2->chatterbot==1.0.4) (2021.8.28)\n",
      "Requirement already satisfied: packaging in c:\\users\\pichau\\anaconda3\\envs\\chatbotpython\\lib\\site-packages (from pint>=0.8.1->chatterbot==1.0.4) (21.0)\n",
      "Requirement already satisfied: importlib-resources in c:\\users\\pichau\\anaconda3\\envs\\chatbotpython\\lib\\site-packages (from pint>=0.8.1->chatterbot==1.0.4) (5.2.2)\n",
      "Requirement already satisfied: importlib-metadata in c:\\users\\pichau\\anaconda3\\envs\\chatbotpython\\lib\\site-packages (from pint>=0.8.1->chatterbot==1.0.4) (4.8.1)\n",
      "Requirement already satisfied: six>=1.5 in c:\\users\\pichau\\anaconda3\\envs\\chatbotpython\\lib\\site-packages (from python-dateutil<2.8,>=2.7->chatterbot==1.0.4) (1.16.0)\n",
      "Requirement already satisfied: typing-extensions>=3.6.4 in c:\\users\\pichau\\anaconda3\\envs\\chatbotpython\\lib\\site-packages (from importlib-metadata->pint>=0.8.1->chatterbot==1.0.4) (3.10.0.2)\n",
      "Requirement already satisfied: zipp>=0.5 in c:\\users\\pichau\\anaconda3\\envs\\chatbotpython\\lib\\site-packages (from importlib-metadata->pint>=0.8.1->chatterbot==1.0.4) (3.5.0)\n",
      "Requirement already satisfied: pyparsing>=2.0.2 in c:\\users\\pichau\\anaconda3\\envs\\chatbotpython\\lib\\site-packages (from packaging->pint>=0.8.1->chatterbot==1.0.4) (2.4.7)\n",
      "Requirement already satisfied: colorama in c:\\users\\pichau\\anaconda3\\envs\\chatbotpython\\lib\\site-packages (from tqdm->nltk<4.0,>=3.2->chatterbot==1.0.4) (0.3.7)\n",
      "Requirement already satisfied: awscli==1.11.18 in c:\\users\\pichau\\anaconda3\\envs\\chatbotpython\\lib\\site-packages (1.11.18)\n",
      "Requirement already satisfied: s3transfer<0.2.0,>=0.1.9 in c:\\users\\pichau\\anaconda3\\envs\\chatbotpython\\lib\\site-packages (from awscli==1.11.18) (0.1.13)\n",
      "Requirement already satisfied: colorama<=0.3.7,>=0.2.5 in c:\\users\\pichau\\anaconda3\\envs\\chatbotpython\\lib\\site-packages (from awscli==1.11.18) (0.3.7)\n",
      "Requirement already satisfied: rsa<=3.5.0,>=3.1.2 in c:\\users\\pichau\\anaconda3\\envs\\chatbotpython\\lib\\site-packages (from awscli==1.11.18) (3.4.2)\n",
      "Requirement already satisfied: docutils>=0.10 in c:\\users\\pichau\\anaconda3\\envs\\chatbotpython\\lib\\site-packages (from awscli==1.11.18) (0.17.1)\n",
      "Requirement already satisfied: botocore==1.4.75 in c:\\users\\pichau\\anaconda3\\envs\\chatbotpython\\lib\\site-packages (from awscli==1.11.18) (1.4.75)\n",
      "Requirement already satisfied: python-dateutil<3.0.0,>=2.1 in c:\\users\\pichau\\anaconda3\\envs\\chatbotpython\\lib\\site-packages (from botocore==1.4.75->awscli==1.11.18) (2.7.5)\n",
      "Requirement already satisfied: jmespath<1.0.0,>=0.7.1 in c:\\users\\pichau\\anaconda3\\envs\\chatbotpython\\lib\\site-packages (from botocore==1.4.75->awscli==1.11.18) (0.10.0)\n",
      "Requirement already satisfied: six>=1.5 in c:\\users\\pichau\\anaconda3\\envs\\chatbotpython\\lib\\site-packages (from python-dateutil<3.0.0,>=2.1->botocore==1.4.75->awscli==1.11.18) (1.16.0)\n",
      "Requirement already satisfied: pyasn1>=0.1.3 in c:\\users\\pichau\\anaconda3\\envs\\chatbotpython\\lib\\site-packages (from rsa<=3.5.0,>=3.1.2->awscli==1.11.18) (0.4.8)\n",
      "Requirement already satisfied: spacy in c:\\users\\pichau\\anaconda3\\envs\\chatbotpython\\lib\\site-packages (2.1.9)\n",
      "Requirement already satisfied: preshed<2.1.0,>=2.0.1 in c:\\users\\pichau\\anaconda3\\envs\\chatbotpython\\lib\\site-packages (from spacy) (2.0.1)\n",
      "Requirement already satisfied: cymem<2.1.0,>=2.0.2 in c:\\users\\pichau\\anaconda3\\envs\\chatbotpython\\lib\\site-packages (from spacy) (2.0.5)\n",
      "Requirement already satisfied: wasabi<1.1.0,>=0.2.0 in c:\\users\\pichau\\anaconda3\\envs\\chatbotpython\\lib\\site-packages (from spacy) (0.8.2)\n",
      "Requirement already satisfied: plac<1.0.0,>=0.9.6 in c:\\users\\pichau\\anaconda3\\envs\\chatbotpython\\lib\\site-packages (from spacy) (0.9.6)\n",
      "Requirement already satisfied: murmurhash<1.1.0,>=0.28.0 in c:\\users\\pichau\\anaconda3\\envs\\chatbotpython\\lib\\site-packages (from spacy) (1.0.5)\n",
      "Requirement already satisfied: blis<0.3.0,>=0.2.2 in c:\\users\\pichau\\anaconda3\\envs\\chatbotpython\\lib\\site-packages (from spacy) (0.2.4)\n",
      "Requirement already satisfied: requests<3.0.0,>=2.13.0 in c:\\users\\pichau\\anaconda3\\envs\\chatbotpython\\lib\\site-packages (from spacy) (2.26.0)\n",
      "Requirement already satisfied: srsly<1.1.0,>=0.0.6 in c:\\users\\pichau\\anaconda3\\envs\\chatbotpython\\lib\\site-packages (from spacy) (1.0.5)\n",
      "Requirement already satisfied: thinc<7.1.0,>=7.0.8 in c:\\users\\pichau\\anaconda3\\envs\\chatbotpython\\lib\\site-packages (from spacy) (7.0.8)\n",
      "Requirement already satisfied: numpy>=1.15.0 in c:\\users\\pichau\\anaconda3\\envs\\chatbotpython\\lib\\site-packages (from spacy) (1.19.5)\n",
      "Requirement already satisfied: charset-normalizer~=2.0.0 in c:\\users\\pichau\\anaconda3\\envs\\chatbotpython\\lib\\site-packages (from requests<3.0.0,>=2.13.0->spacy) (2.0.4)\n",
      "Requirement already satisfied: urllib3<1.27,>=1.21.1 in c:\\users\\pichau\\anaconda3\\envs\\chatbotpython\\lib\\site-packages (from requests<3.0.0,>=2.13.0->spacy) (1.26.6)\n",
      "Requirement already satisfied: certifi>=2017.4.17 in c:\\users\\pichau\\anaconda3\\envs\\chatbotpython\\lib\\site-packages (from requests<3.0.0,>=2.13.0->spacy) (2021.5.30)\n",
      "Requirement already satisfied: idna<4,>=2.5 in c:\\users\\pichau\\anaconda3\\envs\\chatbotpython\\lib\\site-packages (from requests<3.0.0,>=2.13.0->spacy) (3.2)\n",
      "Requirement already satisfied: tqdm<5.0.0,>=4.10.0 in c:\\users\\pichau\\anaconda3\\envs\\chatbotpython\\lib\\site-packages (from thinc<7.1.0,>=7.0.8->spacy) (4.62.2)\n",
      "Requirement already satisfied: colorama in c:\\users\\pichau\\anaconda3\\envs\\chatbotpython\\lib\\site-packages (from tqdm<5.0.0,>=4.10.0->thinc<7.1.0,>=7.0.8->spacy) (0.3.7)\n",
      "Requirement already satisfied: SpeechRecognition in c:\\users\\pichau\\anaconda3\\envs\\chatbotpython\\lib\\site-packages (3.8.1)\n",
      "Requirement already satisfied: gTTS in c:\\users\\pichau\\anaconda3\\envs\\chatbotpython\\lib\\site-packages (2.2.3)\n",
      "Requirement already satisfied: requests in c:\\users\\pichau\\anaconda3\\envs\\chatbotpython\\lib\\site-packages (from gTTS) (2.26.0)\n",
      "Requirement already satisfied: six in c:\\users\\pichau\\anaconda3\\envs\\chatbotpython\\lib\\site-packages (from gTTS) (1.16.0)\n",
      "Requirement already satisfied: click in c:\\users\\pichau\\anaconda3\\envs\\chatbotpython\\lib\\site-packages (from gTTS) (7.1.2)\n",
      "Requirement already satisfied: charset-normalizer~=2.0.0 in c:\\users\\pichau\\anaconda3\\envs\\chatbotpython\\lib\\site-packages (from requests->gTTS) (2.0.4)\n",
      "Requirement already satisfied: urllib3<1.27,>=1.21.1 in c:\\users\\pichau\\anaconda3\\envs\\chatbotpython\\lib\\site-packages (from requests->gTTS) (1.26.6)\n",
      "Requirement already satisfied: certifi>=2017.4.17 in c:\\users\\pichau\\anaconda3\\envs\\chatbotpython\\lib\\site-packages (from requests->gTTS) (2021.5.30)\n",
      "Requirement already satisfied: idna<4,>=2.5 in c:\\users\\pichau\\anaconda3\\envs\\chatbotpython\\lib\\site-packages (from requests->gTTS) (3.2)\n"
     ]
    },
    {
     "name": "stdout",
     "output_type": "stream",
     "text": [
      "Requirement already satisfied: playsound in c:\\users\\pichau\\anaconda3\\envs\\chatbotpython\\lib\\site-packages (1.3.0)\n"
     ]
    }
   ],
   "source": [
    "!pip install chatterbot==1.0.4\n",
    "\n",
    "# A AWS Command Line Interface (AWS CLI) é uma ferramenta de código aberto que permite interagir \n",
    "# com os serviços da AWS (Amazon Web Services) usando comandos no shell da linha de comando.\n",
    "!pip install awscli==1.11.18\n",
    "\n",
    "# Feito especificamente para ajudar a criar aplicações que conseguem\n",
    "# processar e “entender” um grande volume de texto (NPL - process de linguagem natural).\n",
    "!pip install spacy\n",
    "\n",
    "# Só precisa instalar a primeira vez que abre o terminal\n",
    "# !python -m spacy download pt\n",
    "\n",
    "!pip install SpeechRecognition\n",
    "\n",
    "# gTTS - Google Text-to-Speech: Biblioteca para interface com a API do google tradutor\n",
    "!pip install gTTS\n",
    "\n",
    "# Playsound - é um módulo de plataforma cruzada que pode reproduzir arquivos de áudio.\n",
    "# Não tem dependências, e o uso é muito simples. Basta instalar e executar pelo comando playsound.\n",
    "!pip install playsound"
   ]
  },
  {
   "cell_type": "markdown",
   "id": "ce406f67",
   "metadata": {},
   "source": [
    "Biliotecas não utilizadas"
   ]
  },
  {
   "cell_type": "code",
   "execution_count": 3,
   "id": "a0ac82d4",
   "metadata": {},
   "outputs": [],
   "source": [
    "# pydub - similar ao playsound. Também reproduz arquivos de áudio\n",
    "# exigido instalar o ffmpeg e avconv junto\n",
    "# https://www.ti-enxame.com/pt/python/python-converte-mp3-para-wav-com-pydub/1054221358/\n",
    "# !pip install pydub\n",
    "# import pydub\n",
    "# from pydub import AudioSegment\n",
    "# from pydub.playback import play\n",
    "# song = AudioSegment.from_wav(\"sound.wav\")\n",
    "# play(song)\n",
    "# pode-se apenas converter de mps para wav usando o Pydub. Talvez o playsound não esteja rodando \n",
    "# porque não está conseguindo reproduzir o formato mp3.O pydub pode ajudar, convertendo para wav\n",
    "# sound = pydub.AudioSegment.from_mp3(\"example.mp3\")\n",
    "# sound.export(\"example.wav\", format=\"wav\")\n",
    "\n",
    "# pyttsx3 - também é uma biblioteca text-to-speech, similar ao gTTS, e funciona sem internet.Se ele der erro ao instalar, \n",
    "# é recomendável usá-lo com o pypiwin32\n",
    "# !pip install pyttsx3\n",
    "# !pip install pipwin\n",
    "\n",
    "# Pyaudio - usado para gravar ou reproduzir arquivos de áudio\n",
    "# tem que instalar a versão 0.2.11 ou superior\n",
    "# Rodar antes no cmd pip install pipwin e pipwin install pyaudio\n",
    "# !pip install pyaudio"
   ]
  },
  {
   "cell_type": "code",
   "execution_count": 4,
   "id": "f1ac4b92",
   "metadata": {},
   "outputs": [],
   "source": [
    "#Chat bot\n",
    "from chatterbot import ChatBot\n",
    "from chatterbot.trainers import ListTrainer\n",
    "#Reconhecer fala\n",
    "import speech_recognition as sr\n",
    "#Reproduzir fala\n",
    "from gtts import gTTS\n",
    "from playsound import playsound"
   ]
  },
  {
   "cell_type": "code",
   "execution_count": 5,
   "id": "a2b6f43a",
   "metadata": {},
   "outputs": [
    {
     "name": "stderr",
     "output_type": "stream",
     "text": [
      "[nltk_data] Downloading package averaged_perceptron_tagger to\n",
      "[nltk_data]     C:\\Users\\Pichau\\AppData\\Roaming\\nltk_data...\n",
      "[nltk_data]   Package averaged_perceptron_tagger is already up-to-\n",
      "[nltk_data]       date!\n",
      "[nltk_data] Downloading package punkt to\n",
      "[nltk_data]     C:\\Users\\Pichau\\AppData\\Roaming\\nltk_data...\n",
      "[nltk_data]   Package punkt is already up-to-date!\n",
      "[nltk_data] Downloading package stopwords to\n",
      "[nltk_data]     C:\\Users\\Pichau\\AppData\\Roaming\\nltk_data...\n",
      "[nltk_data]   Package stopwords is already up-to-date!\n"
     ]
    }
   ],
   "source": [
    "bot = ChatBot(\n",
    "    \"Luna\", \n",
    "storage_adapter='chatterbot.storage.SQLStorageAdapter',\n",
    "database='database.sqlite3'\n",
    "# read_only = False\n",
    ")\n",
    "\n",
    "conversa = ['Oi',\n",
    "            'Olá',\n",
    "            'Tudo bem?',\n",
    "            'Tudo bem e você?',\n",
    "            'Estou bem também',\n",
    "            'Que bom',\n",
    "            'Quantos anos você tem?', \n",
    "            'Eu nasci em 2021, sou um baby']"
   ]
  },
  {
   "cell_type": "code",
   "execution_count": 6,
   "id": "b2f77fb7",
   "metadata": {},
   "outputs": [
    {
     "name": "stdout",
     "output_type": "stream",
     "text": [
      "List Trainer: [####################] 100%\n"
     ]
    }
   ],
   "source": [
    "trainer = ListTrainer(bot)\n",
    "trainer.train(conversa)"
   ]
  },
  {
   "cell_type": "code",
   "execution_count": 7,
   "id": "875ceb31",
   "metadata": {},
   "outputs": [
    {
     "name": "stdout",
     "output_type": "stream",
     "text": [
      "Requirement already satisfied: pygame in c:\\users\\pichau\\anaconda3\\envs\\chatbotpython\\lib\\site-packages (2.0.1)\n",
      "pygame 2.0.1 (SDL 2.0.14, Python 3.6.13)\n",
      "Hello from the pygame community. https://www.pygame.org/contribute.html\n"
     ]
    }
   ],
   "source": [
    "# Testando pygame - pra ver se roda no lugar do Playsound\n",
    "!pip install pygame\n",
    "import pygame"
   ]
  },
  {
   "cell_type": "code",
   "execution_count": 8,
   "id": "86bf560d",
   "metadata": {},
   "outputs": [],
   "source": [
    "def ouvir_micro():\n",
    "    microfone = sr.Recognizer()\n",
    "    with sr.Microphone() as source:\n",
    "        microfone.adjust_for_ambient_noise(source)\n",
    "        print('Luna:'+'Estou ouvindo...')\n",
    "        audio = microfone.listen(source)\n",
    "        try:\n",
    "            frase = microfone.recognize_google(audio, language='pt-BR')\n",
    "            print('Humano:'+ frase)\n",
    "        except sr.UnknownValueError:\n",
    "            print(\"Luna:\"+\"Não entendi oque voce disse\")\n",
    "            \n",
    "    return frase"
   ]
  },
  {
   "cell_type": "code",
   "execution_count": null,
   "id": "b7e05f13",
   "metadata": {},
   "outputs": [],
   "source": []
  },
  {
   "cell_type": "code",
   "execution_count": 9,
   "id": "64290781",
   "metadata": {},
   "outputs": [],
   "source": [
    "\n",
    "def cria_audio(resposta):\n",
    "    \n",
    "    tts = gTTS(resposta, lang='pt-BR')\n",
    "    print('traduzido')\n",
    "    #reconhecimento\n",
    "    tts.save('temp.mp3')\n",
    "    print('salvo')\n",
    "    #salvar\n",
    "    playsound('temp.mp3')\n",
    "    \n",
    "    #tocar"
   ]
  },
  {
   "cell_type": "code",
   "execution_count": 10,
   "id": "26112d97",
   "metadata": {},
   "outputs": [],
   "source": [
    "# # Teste de funçoes\n",
    "# frase = ouvir_micro()\n",
    "# # cria_audio(frase)\n",
    "# resposta = bot.get_response(frase).text.strip()  \n",
    "# print (resposta)\n",
    "# cria_audio(resposta)"
   ]
  },
  {
   "cell_type": "code",
   "execution_count": 11,
   "id": "c9cb660d",
   "metadata": {},
   "outputs": [
    {
     "name": "stdout",
     "output_type": "stream",
     "text": [
      "Luna:Estou ouvindo...\n",
      "Luna:Não entendi oque voce disse\n"
     ]
    },
    {
     "ename": "UnboundLocalError",
     "evalue": "local variable 'frase' referenced before assignment",
     "output_type": "error",
     "traceback": [
      "\u001b[1;31m---------------------------------------------------------------------------\u001b[0m",
      "\u001b[1;31mUnboundLocalError\u001b[0m                         Traceback (most recent call last)",
      "\u001b[1;32m<ipython-input-11-c3122c49e735>\u001b[0m in \u001b[0;36m<module>\u001b[1;34m\u001b[0m\n\u001b[0;32m      1\u001b[0m \u001b[1;32mwhile\u001b[0m \u001b[1;32mTrue\u001b[0m\u001b[1;33m:\u001b[0m\u001b[1;33m\u001b[0m\u001b[1;33m\u001b[0m\u001b[0m\n\u001b[0;32m      2\u001b[0m     \u001b[1;32mtry\u001b[0m\u001b[1;33m:\u001b[0m\u001b[1;33m\u001b[0m\u001b[1;33m\u001b[0m\u001b[0m\n\u001b[1;32m----> 3\u001b[1;33m         \u001b[0mfrase\u001b[0m \u001b[1;33m=\u001b[0m \u001b[0mouvir_micro\u001b[0m\u001b[1;33m(\u001b[0m\u001b[1;33m)\u001b[0m\u001b[1;33m\u001b[0m\u001b[1;33m\u001b[0m\u001b[0m\n\u001b[0m\u001b[0;32m      4\u001b[0m         \u001b[1;32mif\u001b[0m \u001b[0mfrase\u001b[0m \u001b[1;33m==\u001b[0m \u001b[1;34m\"obrigado\"\u001b[0m\u001b[1;33m:\u001b[0m\u001b[1;33m\u001b[0m\u001b[1;33m\u001b[0m\u001b[0m\n\u001b[0;32m      5\u001b[0m             \u001b[0mresposta\u001b[0m\u001b[1;33m=\u001b[0m\u001b[1;33m(\u001b[0m\u001b[1;34m'Me chame quando eu puder ajudar'\u001b[0m\u001b[1;33m)\u001b[0m\u001b[1;33m\u001b[0m\u001b[1;33m\u001b[0m\u001b[0m\n",
      "\u001b[1;32m<ipython-input-8-0082da3c6a7b>\u001b[0m in \u001b[0;36mouvir_micro\u001b[1;34m()\u001b[0m\n\u001b[0;32m     11\u001b[0m             \u001b[0mprint\u001b[0m\u001b[1;33m(\u001b[0m\u001b[1;34m\"Luna:\"\u001b[0m\u001b[1;33m+\u001b[0m\u001b[1;34m\"Não entendi oque voce disse\"\u001b[0m\u001b[1;33m)\u001b[0m\u001b[1;33m\u001b[0m\u001b[1;33m\u001b[0m\u001b[0m\n\u001b[0;32m     12\u001b[0m \u001b[1;33m\u001b[0m\u001b[0m\n\u001b[1;32m---> 13\u001b[1;33m     \u001b[1;32mreturn\u001b[0m \u001b[0mfrase\u001b[0m\u001b[1;33m\u001b[0m\u001b[1;33m\u001b[0m\u001b[0m\n\u001b[0m",
      "\u001b[1;31mUnboundLocalError\u001b[0m: local variable 'frase' referenced before assignment"
     ]
    }
   ],
   "source": [
    "while True:\n",
    "    try:\n",
    "        frase = ouvir_micro()\n",
    "        if frase == \"obrigado\":\n",
    "            resposta=('Me chame quando eu puder ajudar')\n",
    "        else:\n",
    "            resposta = bot.get_response(frase).text.strip()   \n",
    "            print(resposta)\n",
    "#             if sr.UnknownValueError:\n",
    "#                print('Não tenho resposta')\n",
    "                \n",
    "        cria_audio(resposta)\n",
    "#           if float(resposta.confidence) < 0.2:\n",
    "#           print(\"Desculpe, ainda não aprendi sobre isso :(\")\n",
    "    except(KeyboardInterrupt, EOFError, SystemExit):\n",
    "        break    \n"
   ]
  },
  {
   "cell_type": "code",
   "execution_count": null,
   "id": "19d5a9ce",
   "metadata": {},
   "outputs": [],
   "source": []
  },
  {
   "cell_type": "markdown",
   "id": "836222cf",
   "metadata": {},
   "source": [
    "Próximas Sprints"
   ]
  },
  {
   "cell_type": "code",
   "execution_count": null,
   "id": "62bc5d2f",
   "metadata": {},
   "outputs": [],
   "source": [
    "# criar arquivo de leitura para o bot (ok)\n",
    "# entender reconhecimento de voz\n",
    "\n",
    "# entender o resposta.confidence\n",
    "\n",
    "# Deadline: 23/09\n",
    "\n",
    "# Reunião: Setembro-18th e Sept-21st\n",
    "\n",
    "-------------------------\n",
    "\n",
    "# Vincular arquivo de dados com base txt\n",
    "# Vincular lista de músicas (API youtube ou lista pré-definida)\n",
    "# Entender a logica do while true\n",
    "# Achar horário em português \n",
    "# ver o flash\n"
   ]
  }
 ],
 "metadata": {
  "kernelspec": {
   "display_name": "Python 3",
   "language": "python",
   "name": "python3"
  },
  "language_info": {
   "codemirror_mode": {
    "name": "ipython",
    "version": 3
   },
   "file_extension": ".py",
   "mimetype": "text/x-python",
   "name": "python",
   "nbconvert_exporter": "python",
   "pygments_lexer": "ipython3",
   "version": "3.6.13"
  }
 },
 "nbformat": 4,
 "nbformat_minor": 5
}
