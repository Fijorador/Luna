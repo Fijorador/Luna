{
 "cells": [
  {
   "cell_type": "code",
   "execution_count": 1,
   "id": "628bf2e1",
   "metadata": {},
   "outputs": [
    {
     "name": "stdout",
     "output_type": "stream",
     "text": [
      "Requirement already satisfied: chatterbot==1.0.4 in c:\\users\\pichau\\anaconda3\\envs\\chatbotpython\\lib\\site-packages (1.0.4)\n",
      "Requirement already satisfied: chatterbot-corpus<1.3,>=1.2 in c:\\users\\pichau\\anaconda3\\envs\\chatbotpython\\lib\\site-packages (from chatterbot==1.0.4) (1.2.0)\n",
      "Requirement already satisfied: sqlalchemy<1.3,>=1.2 in c:\\users\\pichau\\anaconda3\\envs\\chatbotpython\\lib\\site-packages (from chatterbot==1.0.4) (1.2.19)\n",
      "Requirement already satisfied: python-dateutil<2.8,>=2.7 in c:\\users\\pichau\\anaconda3\\envs\\chatbotpython\\lib\\site-packages (from chatterbot==1.0.4) (2.7.5)\n",
      "Requirement already satisfied: nltk<4.0,>=3.2 in c:\\users\\pichau\\anaconda3\\envs\\chatbotpython\\lib\\site-packages (from chatterbot==1.0.4) (3.6.2)\n",
      "Requirement already satisfied: pymongo<4.0,>=3.3 in c:\\users\\pichau\\anaconda3\\envs\\chatbotpython\\lib\\site-packages (from chatterbot==1.0.4) (3.12.0)\n",
      "Requirement already satisfied: mathparse<0.2,>=0.1 in c:\\users\\pichau\\anaconda3\\envs\\chatbotpython\\lib\\site-packages (from chatterbot==1.0.4) (0.1.2)\n",
      "Requirement already satisfied: pint>=0.8.1 in c:\\users\\pichau\\anaconda3\\envs\\chatbotpython\\lib\\site-packages (from chatterbot==1.0.4) (0.17)\n",
      "Requirement already satisfied: PyYAML<4.0,>=3.12 in c:\\users\\pichau\\anaconda3\\envs\\chatbotpython\\lib\\site-packages (from chatterbot-corpus<1.3,>=1.2->chatterbot==1.0.4) (3.13)\n",
      "Requirement already satisfied: click in c:\\users\\pichau\\anaconda3\\envs\\chatbotpython\\lib\\site-packages (from nltk<4.0,>=3.2->chatterbot==1.0.4) (7.1.2)\n",
      "Requirement already satisfied: regex in c:\\users\\pichau\\anaconda3\\envs\\chatbotpython\\lib\\site-packages (from nltk<4.0,>=3.2->chatterbot==1.0.4) (2021.8.28)\n",
      "Requirement already satisfied: joblib in c:\\users\\pichau\\anaconda3\\envs\\chatbotpython\\lib\\site-packages (from nltk<4.0,>=3.2->chatterbot==1.0.4) (1.0.1)\n",
      "Requirement already satisfied: tqdm in c:\\users\\pichau\\anaconda3\\envs\\chatbotpython\\lib\\site-packages (from nltk<4.0,>=3.2->chatterbot==1.0.4) (4.62.2)\n",
      "Requirement already satisfied: importlib-metadata in c:\\users\\pichau\\anaconda3\\envs\\chatbotpython\\lib\\site-packages (from pint>=0.8.1->chatterbot==1.0.4) (4.8.1)\n",
      "Requirement already satisfied: packaging in c:\\users\\pichau\\anaconda3\\envs\\chatbotpython\\lib\\site-packages (from pint>=0.8.1->chatterbot==1.0.4) (21.0)\n",
      "Requirement already satisfied: importlib-resources in c:\\users\\pichau\\anaconda3\\envs\\chatbotpython\\lib\\site-packages (from pint>=0.8.1->chatterbot==1.0.4) (5.2.2)\n",
      "Requirement already satisfied: six>=1.5 in c:\\users\\pichau\\anaconda3\\envs\\chatbotpython\\lib\\site-packages (from python-dateutil<2.8,>=2.7->chatterbot==1.0.4) (1.16.0)\n",
      "Requirement already satisfied: typing-extensions>=3.6.4 in c:\\users\\pichau\\anaconda3\\envs\\chatbotpython\\lib\\site-packages (from importlib-metadata->pint>=0.8.1->chatterbot==1.0.4) (3.10.0.2)\n",
      "Requirement already satisfied: zipp>=0.5 in c:\\users\\pichau\\anaconda3\\envs\\chatbotpython\\lib\\site-packages (from importlib-metadata->pint>=0.8.1->chatterbot==1.0.4) (3.5.0)\n",
      "Requirement already satisfied: pyparsing>=2.0.2 in c:\\users\\pichau\\anaconda3\\envs\\chatbotpython\\lib\\site-packages (from packaging->pint>=0.8.1->chatterbot==1.0.4) (2.4.7)\n",
      "Requirement already satisfied: colorama in c:\\users\\pichau\\anaconda3\\envs\\chatbotpython\\lib\\site-packages (from tqdm->nltk<4.0,>=3.2->chatterbot==1.0.4) (0.3.7)\n",
      "Requirement already satisfied: ChatterBot-corpus in c:\\users\\pichau\\anaconda3\\envs\\chatbotpython\\lib\\site-packages (1.2.0)\n",
      "Requirement already satisfied: PyYAML<4.0,>=3.12 in c:\\users\\pichau\\anaconda3\\envs\\chatbotpython\\lib\\site-packages (from ChatterBot-corpus) (3.13)\n",
      "Requirement already satisfied: spacy in c:\\users\\pichau\\anaconda3\\envs\\chatbotpython\\lib\\site-packages (3.1.2)\n",
      "Requirement already satisfied: tqdm<5.0.0,>=4.38.0 in c:\\users\\pichau\\anaconda3\\envs\\chatbotpython\\lib\\site-packages (from spacy) (4.62.2)\n",
      "Requirement already satisfied: cymem<2.1.0,>=2.0.2 in c:\\users\\pichau\\anaconda3\\envs\\chatbotpython\\lib\\site-packages (from spacy) (2.0.5)\n",
      "Requirement already satisfied: packaging>=20.0 in c:\\users\\pichau\\anaconda3\\envs\\chatbotpython\\lib\\site-packages (from spacy) (21.0)\n",
      "Requirement already satisfied: setuptools in c:\\users\\pichau\\anaconda3\\envs\\chatbotpython\\lib\\site-packages (from spacy) (58.0.4)\n",
      "Requirement already satisfied: pydantic!=1.8,!=1.8.1,<1.9.0,>=1.7.4 in c:\\users\\pichau\\anaconda3\\envs\\chatbotpython\\lib\\site-packages (from spacy) (1.8.2)\n",
      "Requirement already satisfied: jinja2 in c:\\users\\pichau\\anaconda3\\envs\\chatbotpython\\lib\\site-packages (from spacy) (3.0.1)\n",
      "Requirement already satisfied: thinc<8.1.0,>=8.0.8 in c:\\users\\pichau\\anaconda3\\envs\\chatbotpython\\lib\\site-packages (from spacy) (8.0.10)\n",
      "Requirement already satisfied: catalogue<2.1.0,>=2.0.4 in c:\\users\\pichau\\anaconda3\\envs\\chatbotpython\\lib\\site-packages (from spacy) (2.0.6)\n",
      "Requirement already satisfied: wasabi<1.1.0,>=0.8.1 in c:\\users\\pichau\\anaconda3\\envs\\chatbotpython\\lib\\site-packages (from spacy) (0.8.2)\n",
      "Requirement already satisfied: typing-extensions<4.0.0.0,>=3.7.4 in c:\\users\\pichau\\anaconda3\\envs\\chatbotpython\\lib\\site-packages (from spacy) (3.10.0.2)\n",
      "Requirement already satisfied: murmurhash<1.1.0,>=0.28.0 in c:\\users\\pichau\\anaconda3\\envs\\chatbotpython\\lib\\site-packages (from spacy) (1.0.5)\n",
      "Requirement already satisfied: blis<0.8.0,>=0.4.0 in c:\\users\\pichau\\anaconda3\\envs\\chatbotpython\\lib\\site-packages (from spacy) (0.7.4)\n",
      "Requirement already satisfied: typer<0.4.0,>=0.3.0 in c:\\users\\pichau\\anaconda3\\envs\\chatbotpython\\lib\\site-packages (from spacy) (0.3.2)\n",
      "Requirement already satisfied: pathy>=0.3.5 in c:\\users\\pichau\\anaconda3\\envs\\chatbotpython\\lib\\site-packages (from spacy) (0.6.0)\n",
      "Requirement already satisfied: preshed<3.1.0,>=3.0.2 in c:\\users\\pichau\\anaconda3\\envs\\chatbotpython\\lib\\site-packages (from spacy) (3.0.5)\n",
      "Requirement already satisfied: requests<3.0.0,>=2.13.0 in c:\\users\\pichau\\anaconda3\\envs\\chatbotpython\\lib\\site-packages (from spacy) (2.26.0)\n",
      "Requirement already satisfied: numpy>=1.15.0 in c:\\users\\pichau\\anaconda3\\envs\\chatbotpython\\lib\\site-packages (from spacy) (1.19.5)\n",
      "Requirement already satisfied: srsly<3.0.0,>=2.4.1 in c:\\users\\pichau\\anaconda3\\envs\\chatbotpython\\lib\\site-packages (from spacy) (2.4.1)\n",
      "Requirement already satisfied: spacy-legacy<3.1.0,>=3.0.7 in c:\\users\\pichau\\anaconda3\\envs\\chatbotpython\\lib\\site-packages (from spacy) (3.0.8)\n",
      "Requirement already satisfied: zipp>=0.5 in c:\\users\\pichau\\anaconda3\\envs\\chatbotpython\\lib\\site-packages (from catalogue<2.1.0,>=2.0.4->spacy) (3.5.0)\n",
      "Requirement already satisfied: pyparsing>=2.0.2 in c:\\users\\pichau\\anaconda3\\envs\\chatbotpython\\lib\\site-packages (from packaging>=20.0->spacy) (2.4.7)\n",
      "Requirement already satisfied: smart-open<6.0.0,>=5.0.0 in c:\\users\\pichau\\anaconda3\\envs\\chatbotpython\\lib\\site-packages (from pathy>=0.3.5->spacy) (5.2.1)\n",
      "Requirement already satisfied: dataclasses<1.0,>=0.6 in c:\\users\\pichau\\anaconda3\\envs\\chatbotpython\\lib\\site-packages (from pathy>=0.3.5->spacy) (0.8)\n",
      "Requirement already satisfied: charset-normalizer~=2.0.0 in c:\\users\\pichau\\anaconda3\\envs\\chatbotpython\\lib\\site-packages (from requests<3.0.0,>=2.13.0->spacy) (2.0.4)\n",
      "Requirement already satisfied: urllib3<1.27,>=1.21.1 in c:\\users\\pichau\\anaconda3\\envs\\chatbotpython\\lib\\site-packages (from requests<3.0.0,>=2.13.0->spacy) (1.26.6)\n",
      "Requirement already satisfied: idna<4,>=2.5 in c:\\users\\pichau\\anaconda3\\envs\\chatbotpython\\lib\\site-packages (from requests<3.0.0,>=2.13.0->spacy) (3.2)\n",
      "Requirement already satisfied: certifi>=2017.4.17 in c:\\users\\pichau\\anaconda3\\envs\\chatbotpython\\lib\\site-packages (from requests<3.0.0,>=2.13.0->spacy) (2021.5.30)\n",
      "Requirement already satisfied: contextvars<3,>=2.4 in c:\\users\\pichau\\anaconda3\\envs\\chatbotpython\\lib\\site-packages (from thinc<8.1.0,>=8.0.8->spacy) (2.4)\n",
      "Requirement already satisfied: immutables>=0.9 in c:\\users\\pichau\\anaconda3\\envs\\chatbotpython\\lib\\site-packages (from contextvars<3,>=2.4->thinc<8.1.0,>=8.0.8->spacy) (0.16)\n",
      "Requirement already satisfied: colorama in c:\\users\\pichau\\anaconda3\\envs\\chatbotpython\\lib\\site-packages (from tqdm<5.0.0,>=4.38.0->spacy) (0.3.7)\n",
      "Requirement already satisfied: click<7.2.0,>=7.1.1 in c:\\users\\pichau\\anaconda3\\envs\\chatbotpython\\lib\\site-packages (from typer<0.4.0,>=0.3.0->spacy) (7.1.2)\n",
      "Requirement already satisfied: MarkupSafe>=2.0 in c:\\users\\pichau\\anaconda3\\envs\\chatbotpython\\lib\\site-packages (from jinja2->spacy) (2.0.1)\n"
     ]
    },
    {
     "name": "stdout",
     "output_type": "stream",
     "text": [
      "Requirement already satisfied: awscli==1.11.18 in c:\\users\\pichau\\anaconda3\\envs\\chatbotpython\\lib\\site-packages (1.11.18)\n",
      "Requirement already satisfied: colorama<=0.3.7,>=0.2.5 in c:\\users\\pichau\\anaconda3\\envs\\chatbotpython\\lib\\site-packages (from awscli==1.11.18) (0.3.7)\n",
      "Requirement already satisfied: rsa<=3.5.0,>=3.1.2 in c:\\users\\pichau\\anaconda3\\envs\\chatbotpython\\lib\\site-packages (from awscli==1.11.18) (3.4.2)\n",
      "Requirement already satisfied: botocore==1.4.75 in c:\\users\\pichau\\anaconda3\\envs\\chatbotpython\\lib\\site-packages (from awscli==1.11.18) (1.4.75)\n",
      "Requirement already satisfied: s3transfer<0.2.0,>=0.1.9 in c:\\users\\pichau\\anaconda3\\envs\\chatbotpython\\lib\\site-packages (from awscli==1.11.18) (0.1.13)\n",
      "Requirement already satisfied: docutils>=0.10 in c:\\users\\pichau\\anaconda3\\envs\\chatbotpython\\lib\\site-packages (from awscli==1.11.18) (0.17.1)\n",
      "Requirement already satisfied: python-dateutil<3.0.0,>=2.1 in c:\\users\\pichau\\anaconda3\\envs\\chatbotpython\\lib\\site-packages (from botocore==1.4.75->awscli==1.11.18) (2.7.5)\n",
      "Requirement already satisfied: jmespath<1.0.0,>=0.7.1 in c:\\users\\pichau\\anaconda3\\envs\\chatbotpython\\lib\\site-packages (from botocore==1.4.75->awscli==1.11.18) (0.10.0)\n",
      "Requirement already satisfied: six>=1.5 in c:\\users\\pichau\\anaconda3\\envs\\chatbotpython\\lib\\site-packages (from python-dateutil<3.0.0,>=2.1->botocore==1.4.75->awscli==1.11.18) (1.16.0)\n",
      "Requirement already satisfied: pyasn1>=0.1.3 in c:\\users\\pichau\\anaconda3\\envs\\chatbotpython\\lib\\site-packages (from rsa<=3.5.0,>=3.1.2->awscli==1.11.18) (0.4.8)\n",
      "Requirement already satisfied: SpeechRecognition in c:\\users\\pichau\\anaconda3\\envs\\chatbotpython\\lib\\site-packages (3.8.1)\n",
      "Requirement already satisfied: pyttsx3 in c:\\users\\pichau\\anaconda3\\envs\\chatbotpython\\lib\\site-packages (2.90)\n",
      "Requirement already satisfied: pypiwin32 in c:\\users\\pichau\\anaconda3\\envs\\chatbotpython\\lib\\site-packages (from pyttsx3) (223)\n",
      "Requirement already satisfied: pywin32 in c:\\users\\pichau\\anaconda3\\envs\\chatbotpython\\lib\\site-packages (from pyttsx3) (301)\n",
      "Requirement already satisfied: comtypes in c:\\users\\pichau\\anaconda3\\envs\\chatbotpython\\lib\\site-packages (from pyttsx3) (1.1.10)\n",
      "Requirement already satisfied: pyaudio in c:\\users\\pichau\\anaconda3\\envs\\chatbotpython\\lib\\site-packages (0.2.11)\n",
      "Requirement already satisfied: pipwin in c:\\users\\pichau\\anaconda3\\envs\\chatbotpython\\lib\\site-packages (0.5.1)\n",
      "Requirement already satisfied: six in c:\\users\\pichau\\anaconda3\\envs\\chatbotpython\\lib\\site-packages (from pipwin) (1.16.0)\n",
      "Requirement already satisfied: beautifulsoup4>=4.9.0 in c:\\users\\pichau\\anaconda3\\envs\\chatbotpython\\lib\\site-packages (from pipwin) (4.10.0)\n",
      "Requirement already satisfied: js2py in c:\\users\\pichau\\anaconda3\\envs\\chatbotpython\\lib\\site-packages (from pipwin) (0.71)\n",
      "Requirement already satisfied: packaging in c:\\users\\pichau\\anaconda3\\envs\\chatbotpython\\lib\\site-packages (from pipwin) (21.0)\n",
      "Requirement already satisfied: docopt in c:\\users\\pichau\\anaconda3\\envs\\chatbotpython\\lib\\site-packages (from pipwin) (0.6.2)\n",
      "Requirement already satisfied: pySmartDL>=1.3.1 in c:\\users\\pichau\\anaconda3\\envs\\chatbotpython\\lib\\site-packages (from pipwin) (1.3.4)\n",
      "Requirement already satisfied: requests in c:\\users\\pichau\\anaconda3\\envs\\chatbotpython\\lib\\site-packages (from pipwin) (2.26.0)\n",
      "Requirement already satisfied: pyprind in c:\\users\\pichau\\anaconda3\\envs\\chatbotpython\\lib\\site-packages (from pipwin) (2.11.3)\n",
      "Requirement already satisfied: soupsieve>1.2 in c:\\users\\pichau\\anaconda3\\envs\\chatbotpython\\lib\\site-packages (from beautifulsoup4>=4.9.0->pipwin) (2.2.1)\n",
      "Requirement already satisfied: tzlocal>=1.2 in c:\\users\\pichau\\anaconda3\\envs\\chatbotpython\\lib\\site-packages (from js2py->pipwin) (3.0)\n",
      "Requirement already satisfied: pyjsparser>=2.5.1 in c:\\users\\pichau\\anaconda3\\envs\\chatbotpython\\lib\\site-packages (from js2py->pipwin) (2.7.1)\n",
      "Requirement already satisfied: backports.zoneinfo in c:\\users\\pichau\\anaconda3\\envs\\chatbotpython\\lib\\site-packages (from tzlocal>=1.2->js2py->pipwin) (0.2.1)\n",
      "Requirement already satisfied: tzdata in c:\\users\\pichau\\anaconda3\\envs\\chatbotpython\\lib\\site-packages (from tzlocal>=1.2->js2py->pipwin) (2021.1)\n",
      "Requirement already satisfied: importlib-resources in c:\\users\\pichau\\anaconda3\\envs\\chatbotpython\\lib\\site-packages (from backports.zoneinfo->tzlocal>=1.2->js2py->pipwin) (5.2.2)\n",
      "Requirement already satisfied: zipp>=3.1.0 in c:\\users\\pichau\\anaconda3\\envs\\chatbotpython\\lib\\site-packages (from importlib-resources->backports.zoneinfo->tzlocal>=1.2->js2py->pipwin) (3.5.0)\n",
      "Requirement already satisfied: pyparsing>=2.0.2 in c:\\users\\pichau\\anaconda3\\envs\\chatbotpython\\lib\\site-packages (from packaging->pipwin) (2.4.7)\n",
      "Requirement already satisfied: urllib3<1.27,>=1.21.1 in c:\\users\\pichau\\anaconda3\\envs\\chatbotpython\\lib\\site-packages (from requests->pipwin) (1.26.6)\n",
      "Requirement already satisfied: certifi>=2017.4.17 in c:\\users\\pichau\\anaconda3\\envs\\chatbotpython\\lib\\site-packages (from requests->pipwin) (2021.5.30)\n",
      "Requirement already satisfied: charset-normalizer~=2.0.0 in c:\\users\\pichau\\anaconda3\\envs\\chatbotpython\\lib\\site-packages (from requests->pipwin) (2.0.4)\n",
      "Requirement already satisfied: idna<4,>=2.5 in c:\\users\\pichau\\anaconda3\\envs\\chatbotpython\\lib\\site-packages (from requests->pipwin) (3.2)\n",
      "Requirement already satisfied: gtts in c:\\users\\pichau\\anaconda3\\envs\\chatbotpython\\lib\\site-packages (2.2.3)\n",
      "Requirement already satisfied: six in c:\\users\\pichau\\anaconda3\\envs\\chatbotpython\\lib\\site-packages (from gtts) (1.16.0)\n",
      "Requirement already satisfied: click in c:\\users\\pichau\\anaconda3\\envs\\chatbotpython\\lib\\site-packages (from gtts) (7.1.2)\n",
      "Requirement already satisfied: requests in c:\\users\\pichau\\anaconda3\\envs\\chatbotpython\\lib\\site-packages (from gtts) (2.26.0)\n",
      "Requirement already satisfied: charset-normalizer~=2.0.0 in c:\\users\\pichau\\anaconda3\\envs\\chatbotpython\\lib\\site-packages (from requests->gtts) (2.0.4)\n",
      "Requirement already satisfied: urllib3<1.27,>=1.21.1 in c:\\users\\pichau\\anaconda3\\envs\\chatbotpython\\lib\\site-packages (from requests->gtts) (1.26.6)\n",
      "Requirement already satisfied: idna<4,>=2.5 in c:\\users\\pichau\\anaconda3\\envs\\chatbotpython\\lib\\site-packages (from requests->gtts) (3.2)\n",
      "Requirement already satisfied: certifi>=2017.4.17 in c:\\users\\pichau\\anaconda3\\envs\\chatbotpython\\lib\\site-packages (from requests->gtts) (2021.5.30)\n",
      "Requirement already satisfied: playsound in c:\\users\\pichau\\anaconda3\\envs\\chatbotpython\\lib\\site-packages (1.3.0)\n"
     ]
    }
   ],
   "source": [
    "!pip install chatterbot==1.0.4\n",
    "!pip install ChatterBot-corpus\n",
    "!pip install spacy\n",
    "!pip install awscli==1.11.18\n",
    "!pip install SpeechRecognition\n",
    "!pip install pyttsx3\n",
    "!pip install pyaudio\n",
    "!pip install pipwin\n",
    "!pip install gtts\n",
    "!pip install playsound\n"
   ]
  },
  {
   "cell_type": "code",
   "execution_count": null,
   "id": "8d4ef526",
   "metadata": {},
   "outputs": [],
   "source": []
  },
  {
   "cell_type": "code",
   "execution_count": null,
   "id": "f78f8dac",
   "metadata": {},
   "outputs": [],
   "source": [
    "#Importar \n",
    "from chatterbot import ChatBot\n",
    "from chatterbot.trainers import ListTrainer\n",
    "\n",
    "from gtts import gTTS\n",
    "from playsound import playsound "
   ]
  },
  {
   "cell_type": "code",
   "execution_count": 2,
   "id": "cf217970",
   "metadata": {},
   "outputs": [],
   "source": [
    "import spacy\n",
    "from spacy.cli.download import download\n",
    "#download(model=\"en_core_web_sm\")\n",
    "\n",
    "class ENGSM:\n",
    "    ISO_639_1 = 'en_core_web_sm'    "
   ]
  },
  {
   "cell_type": "code",
   "execution_count": 3,
   "id": "5dcecb3f",
   "metadata": {},
   "outputs": [],
   "source": [
    "\n",
    "            "
   ]
  },
  {
   "cell_type": "code",
   "execution_count": 4,
   "id": "b97c9287",
   "metadata": {},
   "outputs": [],
   "source": [
    "def criar_audio(audio):\n",
    "    tts= gTTS(audio, lang=\"pt-BR\")\n",
    "    tts.save('botvoice.mp3')\n",
    "    playsound('botvoice.mp3')"
   ]
  },
  {
   "cell_type": "code",
   "execution_count": 6,
   "id": "a69ac3be",
   "metadata": {},
   "outputs": [
    {
     "ename": "NameError",
     "evalue": "name 'ChatBot' is not defined",
     "output_type": "error",
     "traceback": [
      "\u001b[1;31m---------------------------------------------------------------------------\u001b[0m",
      "\u001b[1;31mNameError\u001b[0m                                 Traceback (most recent call last)",
      "\u001b[1;32m<ipython-input-6-1344f473aeb9>\u001b[0m in \u001b[0;36m<module>\u001b[1;34m\u001b[0m\n\u001b[1;32m----> 1\u001b[1;33m chatbot = ChatBot(\n\u001b[0m\u001b[0;32m      2\u001b[0m     \u001b[1;34m'Luna'\u001b[0m\u001b[1;33m,\u001b[0m\u001b[1;33m\u001b[0m\u001b[1;33m\u001b[0m\u001b[0m\n\u001b[0;32m      3\u001b[0m     \u001b[0mstorage_adapter\u001b[0m\u001b[1;33m=\u001b[0m\u001b[1;34m'chatterbot.storage.SQLStorageAdapter'\u001b[0m\u001b[1;33m,\u001b[0m\u001b[1;33m\u001b[0m\u001b[1;33m\u001b[0m\u001b[0m\n\u001b[0;32m      4\u001b[0m     logic_adapters=[\n\u001b[0;32m      5\u001b[0m         \u001b[1;34m'chatterbot.logic.MathematicalEvaluation'\u001b[0m\u001b[1;33m,\u001b[0m\u001b[1;33m\u001b[0m\u001b[1;33m\u001b[0m\u001b[0m\n",
      "\u001b[1;31mNameError\u001b[0m: name 'ChatBot' is not defined"
     ]
    }
   ],
   "source": [
    "chatbot = ChatBot(\n",
    "    'Luna',\n",
    "    storage_adapter='chatterbot.storage.SQLStorageAdapter',\n",
    "    logic_adapters=[\n",
    "        'chatterbot.logic.MathematicalEvaluation',\n",
    "        #'chatterbot.logic.TimeLogicAdapter',\n",
    "        'chatterbot.logic.BestMatch'],\n",
    "    database_uri='sqlite:///database.sqlite3')\n",
    "\n",
    "conversa= [\n",
    "    \"Oi\",\n",
    "    \"Olá, posso te ajudar?\",\n",
    "    \"Qual o seu nome?\",\n",
    "    \"Meu nome é Luna\",\n",
    "    \"De que voce gosta ?\",\n",
    "    \"Gosto de ajudar\",\n",
    "    \"Legal,eu também gosto de ajudar\",\n",
    "    \"Voce gosta de outras coisas?\",\n",
    "    \"Gosto de várias\",\n",
    "    \"Pode me falar uma delas?\",\n",
    "    \"Eu gosto de conversar\",\n",
    "]\n",
    "\n",
    "trainer = ListTrainer(chatbot)\n",
    "trainer.train(conversa)\n"
   ]
  },
  {
   "cell_type": "code",
   "execution_count": null,
   "id": "efad1afb",
   "metadata": {},
   "outputs": [],
   "source": [
    "#Limpar memoria\n",
    "#chatbot.storage.drop()"
   ]
  },
  {
   "cell_type": "code",
   "execution_count": null,
   "id": "0ec32818",
   "metadata": {},
   "outputs": [],
   "source": [
    "#Pegar uma resposta\n",
    "#chatbot.get_response(\"Luna\")"
   ]
  },
  {
   "cell_type": "code",
   "execution_count": null,
   "id": "7ecfd42c",
   "metadata": {},
   "outputs": [],
   "source": [
    "while True:\n",
    "    mensagem = input() #(\"Em que eu posso ajudar?\")\n",
    "    if mensagem == \"obrigado\":\n",
    "        print(\"Me chame quando eu puder ajudar\")\n",
    "        break\n",
    "    resposta = chatbot.get_response (mensagem)\n",
    "    print(resposta)"
   ]
  },
  {
   "cell_type": "code",
   "execution_count": null,
   "id": "53aa6a0c",
   "metadata": {},
   "outputs": [],
   "source": [
    "udio):\n",
    "    tts= gTTS(audio, lang=\"pt-BR\")\n",
    "    tts.save('botvoice.mp3')\n",
    "    playsound('botvoice.mp3')    criar_audio(str(resposta))\n",
    "    print(resposta)"
   ]
  },
  {
   "cell_type": "code",
   "execution_count": null,
   "id": "6606d63d",
   "metadata": {},
   "outputs": [],
   "source": []
  },
  {
   "cell_type": "code",
   "execution_count": null,
   "id": "d9e1711d",
   "metadata": {},
   "outputs": [],
   "source": [
    "\n",
    "    \n",
    "       \n",
    "   "
   ]
  },
  {
   "cell_type": "code",
   "execution_count": null,
   "id": "c31eea5c",
   "metadata": {},
   "outputs": [],
   "source": []
  }
 ],
 "metadata": {
  "kernelspec": {
   "display_name": "Python 3",
   "language": "python",
   "name": "python3"
  },
  "language_info": {
   "codemirror_mode": {
    "name": "ipython",
    "version": 3
   },
   "file_extension": ".py",
   "mimetype": "text/x-python",
   "name": "python",
   "nbconvert_exporter": "python",
   "pygments_lexer": "ipython3",
   "version": "3.6.13"
  }
 },
 "nbformat": 4,
 "nbformat_minor": 5
}
