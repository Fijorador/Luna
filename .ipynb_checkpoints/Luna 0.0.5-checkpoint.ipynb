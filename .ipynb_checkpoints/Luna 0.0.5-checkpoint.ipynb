{
 "cells": [
  {
   "cell_type": "code",
   "execution_count": 1,
   "id": "628bf2e1",
   "metadata": {},
   "outputs": [
    {
     "name": "stdout",
     "output_type": "stream",
     "text": [
      "Requirement already satisfied: chatterbot==1.0.4 in c:\\users\\pichau\\anaconda3\\lib\\site-packages (1.0.4)\n",
      "Requirement already satisfied: nltk<4.0,>=3.2 in c:\\users\\pichau\\anaconda3\\lib\\site-packages (from chatterbot==1.0.4) (3.6.1)\n",
      "Requirement already satisfied: pymongo<4.0,>=3.3 in c:\\users\\pichau\\anaconda3\\lib\\site-packages (from chatterbot==1.0.4) (3.12.0)\n",
      "Requirement already satisfied: mathparse<0.2,>=0.1 in c:\\users\\pichau\\anaconda3\\lib\\site-packages (from chatterbot==1.0.4) (0.1.2)\n",
      "Requirement already satisfied: pint>=0.8.1 in c:\\users\\pichau\\anaconda3\\lib\\site-packages (from chatterbot==1.0.4) (0.17)\n",
      "Requirement already satisfied: python-dateutil<2.8,>=2.7 in c:\\users\\pichau\\anaconda3\\lib\\site-packages (from chatterbot==1.0.4) (2.7.5)\n",
      "Requirement already satisfied: sqlalchemy<1.3,>=1.2 in c:\\users\\pichau\\anaconda3\\lib\\site-packages (from chatterbot==1.0.4) (1.2.19)\n",
      "Requirement already satisfied: chatterbot-corpus<1.3,>=1.2 in c:\\users\\pichau\\anaconda3\\lib\\site-packages (from chatterbot==1.0.4) (1.2.0)\n",
      "Requirement already satisfied: PyYAML<4.0,>=3.12 in c:\\users\\pichau\\anaconda3\\lib\\site-packages (from chatterbot-corpus<1.3,>=1.2->chatterbot==1.0.4) (3.13)\n",
      "Requirement already satisfied: joblib in c:\\users\\pichau\\anaconda3\\lib\\site-packages (from nltk<4.0,>=3.2->chatterbot==1.0.4) (1.0.1)\n",
      "Requirement already satisfied: tqdm in c:\\users\\pichau\\anaconda3\\lib\\site-packages (from nltk<4.0,>=3.2->chatterbot==1.0.4) (4.59.0)\n",
      "Requirement already satisfied: click in c:\\users\\pichau\\anaconda3\\lib\\site-packages (from nltk<4.0,>=3.2->chatterbot==1.0.4) (7.1.2)\n",
      "Requirement already satisfied: regex in c:\\users\\pichau\\anaconda3\\lib\\site-packages (from nltk<4.0,>=3.2->chatterbot==1.0.4) (2021.4.4)\n",
      "Requirement already satisfied: packaging in c:\\users\\pichau\\anaconda3\\lib\\site-packages (from pint>=0.8.1->chatterbot==1.0.4) (20.9)\n",
      "Requirement already satisfied: six>=1.5 in c:\\users\\pichau\\anaconda3\\lib\\site-packages (from python-dateutil<2.8,>=2.7->chatterbot==1.0.4) (1.15.0)\n",
      "Requirement already satisfied: pyparsing>=2.0.2 in c:\\users\\pichau\\anaconda3\\lib\\site-packages (from packaging->pint>=0.8.1->chatterbot==1.0.4) (2.4.7)\n",
      "Requirement already satisfied: ChatterBot-corpus in c:\\users\\pichau\\anaconda3\\lib\\site-packages (1.2.0)\n",
      "Requirement already satisfied: PyYAML<4.0,>=3.12 in c:\\users\\pichau\\anaconda3\\lib\\site-packages (from ChatterBot-corpus) (3.13)\n",
      "Requirement already satisfied: awscli==1.11.18 in c:\\users\\pichau\\anaconda3\\lib\\site-packages (1.11.18)\n",
      "Requirement already satisfied: botocore==1.4.75 in c:\\users\\pichau\\anaconda3\\lib\\site-packages (from awscli==1.11.18) (1.4.75)\n",
      "Requirement already satisfied: rsa<=3.5.0,>=3.1.2 in c:\\users\\pichau\\anaconda3\\lib\\site-packages (from awscli==1.11.18) (3.4.2)\n",
      "Requirement already satisfied: s3transfer<0.2.0,>=0.1.9 in c:\\users\\pichau\\anaconda3\\lib\\site-packages (from awscli==1.11.18) (0.1.13)\n",
      "Requirement already satisfied: colorama<=0.3.7,>=0.2.5 in c:\\users\\pichau\\anaconda3\\lib\\site-packages (from awscli==1.11.18) (0.3.7)\n",
      "Requirement already satisfied: docutils>=0.10 in c:\\users\\pichau\\anaconda3\\lib\\site-packages (from awscli==1.11.18) (0.17)\n",
      "Requirement already satisfied: jmespath<1.0.0,>=0.7.1 in c:\\users\\pichau\\anaconda3\\lib\\site-packages (from botocore==1.4.75->awscli==1.11.18) (0.10.0)\n",
      "Requirement already satisfied: python-dateutil<3.0.0,>=2.1 in c:\\users\\pichau\\anaconda3\\lib\\site-packages (from botocore==1.4.75->awscli==1.11.18) (2.7.5)\n",
      "Requirement already satisfied: six>=1.5 in c:\\users\\pichau\\anaconda3\\lib\\site-packages (from python-dateutil<3.0.0,>=2.1->botocore==1.4.75->awscli==1.11.18) (1.15.0)\n",
      "Requirement already satisfied: pyasn1>=0.1.3 in c:\\users\\pichau\\anaconda3\\lib\\site-packages (from rsa<=3.5.0,>=3.1.2->awscli==1.11.18) (0.4.8)\n",
      "Requirement already satisfied: spacy in c:\\users\\pichau\\anaconda3\\lib\\site-packages (3.1.2)\n",
      "Requirement already satisfied: setuptools in c:\\users\\pichau\\anaconda3\\lib\\site-packages (from spacy) (52.0.0.post20210125)\n",
      "Requirement already satisfied: srsly<3.0.0,>=2.4.1 in c:\\users\\pichau\\anaconda3\\lib\\site-packages (from spacy) (2.4.1)\n",
      "Requirement already satisfied: numpy>=1.15.0 in c:\\users\\pichau\\anaconda3\\lib\\site-packages (from spacy) (1.20.1)\n",
      "Requirement already satisfied: wasabi<1.1.0,>=0.8.1 in c:\\users\\pichau\\anaconda3\\lib\\site-packages (from spacy) (0.8.2)\n",
      "Requirement already satisfied: jinja2 in c:\\users\\pichau\\anaconda3\\lib\\site-packages (from spacy) (2.11.3)\n",
      "Requirement already satisfied: cymem<2.1.0,>=2.0.2 in c:\\users\\pichau\\anaconda3\\lib\\site-packages (from spacy) (2.0.5)\n",
      "Requirement already satisfied: pathy>=0.3.5 in c:\\users\\pichau\\anaconda3\\lib\\site-packages (from spacy) (0.6.0)\n",
      "Requirement already satisfied: spacy-legacy<3.1.0,>=3.0.7 in c:\\users\\pichau\\anaconda3\\lib\\site-packages (from spacy) (3.0.8)\n",
      "Requirement already satisfied: packaging>=20.0 in c:\\users\\pichau\\anaconda3\\lib\\site-packages (from spacy) (20.9)\n",
      "Requirement already satisfied: typer<0.4.0,>=0.3.0 in c:\\users\\pichau\\anaconda3\\lib\\site-packages (from spacy) (0.3.2)\n",
      "Requirement already satisfied: tqdm<5.0.0,>=4.38.0 in c:\\users\\pichau\\anaconda3\\lib\\site-packages (from spacy) (4.59.0)\n",
      "Requirement already satisfied: requests<3.0.0,>=2.13.0 in c:\\users\\pichau\\anaconda3\\lib\\site-packages (from spacy) (2.25.1)\n",
      "Requirement already satisfied: preshed<3.1.0,>=3.0.2 in c:\\users\\pichau\\anaconda3\\lib\\site-packages (from spacy) (3.0.5)\n",
      "Requirement already satisfied: catalogue<2.1.0,>=2.0.4 in c:\\users\\pichau\\anaconda3\\lib\\site-packages (from spacy) (2.0.6)\n",
      "Requirement already satisfied: thinc<8.1.0,>=8.0.8 in c:\\users\\pichau\\anaconda3\\lib\\site-packages (from spacy) (8.0.10)\n",
      "Requirement already satisfied: pydantic!=1.8,!=1.8.1,<1.9.0,>=1.7.4 in c:\\users\\pichau\\anaconda3\\lib\\site-packages (from spacy) (1.8.2)\n",
      "Requirement already satisfied: blis<0.8.0,>=0.4.0 in c:\\users\\pichau\\anaconda3\\lib\\site-packages (from spacy) (0.7.4)\n",
      "Requirement already satisfied: murmurhash<1.1.0,>=0.28.0 in c:\\users\\pichau\\anaconda3\\lib\\site-packages (from spacy) (1.0.5)\n",
      "Requirement already satisfied: pyparsing>=2.0.2 in c:\\users\\pichau\\anaconda3\\lib\\site-packages (from packaging>=20.0->spacy) (2.4.7)\n",
      "Requirement already satisfied: smart-open<6.0.0,>=5.0.0 in c:\\users\\pichau\\anaconda3\\lib\\site-packages (from pathy>=0.3.5->spacy) (5.2.1)\n",
      "Requirement already satisfied: typing-extensions>=3.7.4.3 in c:\\users\\pichau\\anaconda3\\lib\\site-packages (from pydantic!=1.8,!=1.8.1,<1.9.0,>=1.7.4->spacy) (3.7.4.3)\n",
      "Requirement already satisfied: idna<3,>=2.5 in c:\\users\\pichau\\anaconda3\\lib\\site-packages (from requests<3.0.0,>=2.13.0->spacy) (2.10)\n",
      "Requirement already satisfied: chardet<5,>=3.0.2 in c:\\users\\pichau\\anaconda3\\lib\\site-packages (from requests<3.0.0,>=2.13.0->spacy) (4.0.0)\n",
      "Requirement already satisfied: urllib3<1.27,>=1.21.1 in c:\\users\\pichau\\anaconda3\\lib\\site-packages (from requests<3.0.0,>=2.13.0->spacy) (1.26.4)\n",
      "Requirement already satisfied: certifi>=2017.4.17 in c:\\users\\pichau\\anaconda3\\lib\\site-packages (from requests<3.0.0,>=2.13.0->spacy) (2020.12.5)\n",
      "Requirement already satisfied: click<7.2.0,>=7.1.1 in c:\\users\\pichau\\anaconda3\\lib\\site-packages (from typer<0.4.0,>=0.3.0->spacy) (7.1.2)\n",
      "Requirement already satisfied: MarkupSafe>=0.23 in c:\\users\\pichau\\anaconda3\\lib\\site-packages (from jinja2->spacy) (1.1.1)\n",
      "Requirement already satisfied: SpeechRecognition in c:\\users\\pichau\\anaconda3\\lib\\site-packages (3.8.1)\n",
      "Requirement already satisfied: gTTS in c:\\users\\pichau\\anaconda3\\lib\\site-packages (2.2.3)\n",
      "Requirement already satisfied: six in c:\\users\\pichau\\anaconda3\\lib\\site-packages (from gTTS) (1.15.0)\n",
      "Requirement already satisfied: click in c:\\users\\pichau\\anaconda3\\lib\\site-packages (from gTTS) (7.1.2)\n",
      "Requirement already satisfied: requests in c:\\users\\pichau\\anaconda3\\lib\\site-packages (from gTTS) (2.25.1)\n",
      "Requirement already satisfied: urllib3<1.27,>=1.21.1 in c:\\users\\pichau\\anaconda3\\lib\\site-packages (from requests->gTTS) (1.26.4)\n",
      "Requirement already satisfied: certifi>=2017.4.17 in c:\\users\\pichau\\anaconda3\\lib\\site-packages (from requests->gTTS) (2020.12.5)\n",
      "Requirement already satisfied: idna<3,>=2.5 in c:\\users\\pichau\\anaconda3\\lib\\site-packages (from requests->gTTS) (2.10)\n",
      "Requirement already satisfied: chardet<5,>=3.0.2 in c:\\users\\pichau\\anaconda3\\lib\\site-packages (from requests->gTTS) (4.0.0)\n"
     ]
    }
   ],
   "source": [
    "#Instalando versão 1.0.4 do chaterbot (a versão normal não funciona aparentemente com o Anaconda 3.8)\n",
    "# Para ver a versão do chatterbot usa python -m chatterbot --version\n",
    "\n",
    "!pip install chatterbot==1.0.4\n",
    "!pip install ChatterBot-corpus\n",
    "!pip install awscli==1.11.18\n",
    "!pip install spacy\n",
    "!pip install SpeechRecognition\n",
    "!pip install gTTS"
   ]
  },
  {
   "cell_type": "code",
   "execution_count": null,
   "id": "8d4ef526",
   "metadata": {},
   "outputs": [],
   "source": [
    "#!pip install pyttsx3\n",
    "#!pip install pipwin\n",
    "#!pip install playsound\n",
    "#!pip install pyaudio"
   ]
  },
  {
   "cell_type": "code",
   "execution_count": null,
   "id": "f78f8dac",
   "metadata": {},
   "outputs": [],
   "source": [
    "#Importar \n",
    "import speech_recognition as sr\n",
    "\n",
    "from chatterbot import ChatBot\n",
    "from chatterbot.trainers import ListTrainer\n",
    "\n",
    "from gtts import gTTS\n",
    "from playsound import playsound "
   ]
  },
  {
   "cell_type": "code",
   "execution_count": null,
   "id": "cf217970",
   "metadata": {},
   "outputs": [],
   "source": [
    "import spacy\n",
    "from spacy.cli.download import download\n",
    "#download(model=\"en_core_web_sm\")\n",
    "\n",
    "class ENGSM:\n",
    "    ISO_639_1 = 'en_core_web_sm'    "
   ]
  },
  {
   "cell_type": "code",
   "execution_count": null,
   "id": "5dcecb3f",
   "metadata": {},
   "outputs": [],
   "source": [
    "def ouvir_microfone():\n",
    "    \n",
    "    microfone=sr.Recognizer()\n",
    "    recognizer_instance.adjust_for_ambient_noise\n",
    "    \n",
    "    with sr.Microphone() as source:\n",
    "        microfone.adjust_for_ambient_noise(source)\n",
    "        print(\"Estou ouvindo...\")\n",
    "        audio=microfone.listen(source)\n",
    "        try:\n",
    "            frase=microfone.recognize_google(audio,language='pt-BR')\n",
    "        except sr.UnknownValueError:\n",
    "            print(\"Luna:Não entendi\")\n",
    "        return frase\n",
    "            "
   ]
  },
  {
   "cell_type": "code",
   "execution_count": null,
   "id": "b97c9287",
   "metadata": {},
   "outputs": [],
   "source": [
    "def criar_audio(audio):\n",
    "    tts= gTTS(audio, lang=\"pt-BR\")\n",
    "    tts.save('botvoice.wav')\n",
    "    playsound('botvoice.wav')"
   ]
  },
  {
   "cell_type": "code",
   "execution_count": 5,
   "id": "7baa2cd3",
   "metadata": {},
   "outputs": [],
   "source": [
    "# ir até o local C:\\Users\\Raquel\\anaconda3\\Lib\\site-packages\\sqlalchemy\\util, \n",
    "# abrir o arquivo compat e editar a linha 264 (colocar time.time no lugar de time.clock . Time.clock dá erro no Anaconda 3.8)\n",
    "\n",
    "from chatterbot import ChatBot\n",
    "\n",
    "# Trainer é a lista de diálogos que serão base de diálogo do bot.\n",
    "# Trainer está usando as formas Curpus e List: \n",
    "# Corpus é um arquivo que contém diálogos comuns (documentaçao em https://github.com/gunthercox/chatterbot-corpus/blob/master/chatterbot_corpus/data/portuguese/compliment.yml)\n",
    "# e list é uma lista criada por mim\n",
    "from chatterbot.trainers import ListTrainer\n",
    "from chatterbot.trainers import ChatterBotCorpusTrainer\n",
    "\n",
    "# flask  é um micro framework que utiliza a linguagem Python para criar aplicativos Web.\n",
    "# https://towardsdatascience.com/beginners-guide-to-creating-a-powerful-chatbot-48fc6b073e55\n",
    "# https://github.com/louisteo9/chatbot/blob/main/chatbot_training.py\n",
    "from flask import Flask, render_template, request\n",
    "\n",
    "\n",
    "#Instalar Speech Recognation\n",
    "import speech_recognition\n",
    "\n",
    "#from gtts import gTTS\n",
    "#from playsound import playsound \n",
    "\n",
    "# Esse banco criado é onde o chatbot vai guardar as respostas das minhas interações com ele, \n",
    "# e a partir delas, aprender e refinar a “conversa”\n",
    "# O único parametro exigido para o Chatbot é o nome (no caso, Luna)\n",
    "# Preprocessor são declarados para limpar espaços,converter caracteres html etc."
   ]
  },
  {
   "cell_type": "code",
   "execution_count": 6,
   "id": "a69ac3be",
   "metadata": {},
   "outputs": [
    {
     "ename": "AttributeError",
     "evalue": "module 'time' has no attribute 'clock'",
     "output_type": "error",
     "traceback": [
      "\u001b[1;31m---------------------------------------------------------------------------\u001b[0m",
      "\u001b[1;31mAttributeError\u001b[0m                            Traceback (most recent call last)",
      "\u001b[1;32m<ipython-input-6-4504ef68cd88>\u001b[0m in \u001b[0;36m<module>\u001b[1;34m\u001b[0m\n\u001b[1;32m----> 1\u001b[1;33m bot = ChatBot(\n\u001b[0m\u001b[0;32m      2\u001b[0m     \u001b[1;34m\"Luna\"\u001b[0m\u001b[1;33m,\u001b[0m\u001b[1;33m\u001b[0m\u001b[1;33m\u001b[0m\u001b[0m\n\u001b[0;32m      3\u001b[0m \u001b[0mstorage_adapter\u001b[0m\u001b[1;33m=\u001b[0m\u001b[1;34m'chatterbot.storage.SQLStorageAdapter'\u001b[0m\u001b[1;33m,\u001b[0m\u001b[1;33m\u001b[0m\u001b[1;33m\u001b[0m\u001b[0m\n\u001b[0;32m      4\u001b[0m     logic_adapters = [\n\u001b[0;32m      5\u001b[0m         \u001b[1;31m#'chatterbot.logic.TimeLogicAdapter',\u001b[0m\u001b[1;33m\u001b[0m\u001b[1;33m\u001b[0m\u001b[1;33m\u001b[0m\u001b[0m\n",
      "\u001b[1;32m~\\anaconda3\\lib\\site-packages\\chatterbot\\chatterbot.py\u001b[0m in \u001b[0;36m__init__\u001b[1;34m(self, name, **kwargs)\u001b[0m\n\u001b[0;32m     32\u001b[0m         \u001b[0mself\u001b[0m\u001b[1;33m.\u001b[0m\u001b[0mlogic_adapters\u001b[0m \u001b[1;33m=\u001b[0m \u001b[1;33m[\u001b[0m\u001b[1;33m]\u001b[0m\u001b[1;33m\u001b[0m\u001b[1;33m\u001b[0m\u001b[0m\n\u001b[0;32m     33\u001b[0m \u001b[1;33m\u001b[0m\u001b[0m\n\u001b[1;32m---> 34\u001b[1;33m         \u001b[0mself\u001b[0m\u001b[1;33m.\u001b[0m\u001b[0mstorage\u001b[0m \u001b[1;33m=\u001b[0m \u001b[0mutils\u001b[0m\u001b[1;33m.\u001b[0m\u001b[0minitialize_class\u001b[0m\u001b[1;33m(\u001b[0m\u001b[0mstorage_adapter\u001b[0m\u001b[1;33m,\u001b[0m \u001b[1;33m**\u001b[0m\u001b[0mkwargs\u001b[0m\u001b[1;33m)\u001b[0m\u001b[1;33m\u001b[0m\u001b[1;33m\u001b[0m\u001b[0m\n\u001b[0m\u001b[0;32m     35\u001b[0m \u001b[1;33m\u001b[0m\u001b[0m\n\u001b[0;32m     36\u001b[0m         \u001b[1;32mfor\u001b[0m \u001b[0madapter\u001b[0m \u001b[1;32min\u001b[0m \u001b[0mlogic_adapters\u001b[0m\u001b[1;33m:\u001b[0m\u001b[1;33m\u001b[0m\u001b[1;33m\u001b[0m\u001b[0m\n",
      "\u001b[1;32m~\\anaconda3\\lib\\site-packages\\chatterbot\\utils.py\u001b[0m in \u001b[0;36minitialize_class\u001b[1;34m(data, *args, **kwargs)\u001b[0m\n\u001b[0;32m     52\u001b[0m         \u001b[0mClass\u001b[0m \u001b[1;33m=\u001b[0m \u001b[0mimport_module\u001b[0m\u001b[1;33m(\u001b[0m\u001b[0mdata\u001b[0m\u001b[1;33m)\u001b[0m\u001b[1;33m\u001b[0m\u001b[1;33m\u001b[0m\u001b[0m\n\u001b[0;32m     53\u001b[0m \u001b[1;33m\u001b[0m\u001b[0m\n\u001b[1;32m---> 54\u001b[1;33m         \u001b[1;32mreturn\u001b[0m \u001b[0mClass\u001b[0m\u001b[1;33m(\u001b[0m\u001b[1;33m*\u001b[0m\u001b[0margs\u001b[0m\u001b[1;33m,\u001b[0m \u001b[1;33m**\u001b[0m\u001b[0mkwargs\u001b[0m\u001b[1;33m)\u001b[0m\u001b[1;33m\u001b[0m\u001b[1;33m\u001b[0m\u001b[0m\n\u001b[0m\u001b[0;32m     55\u001b[0m \u001b[1;33m\u001b[0m\u001b[0m\n\u001b[0;32m     56\u001b[0m \u001b[1;33m\u001b[0m\u001b[0m\n",
      "\u001b[1;32m~\\anaconda3\\lib\\site-packages\\chatterbot\\storage\\sql_storage.py\u001b[0m in \u001b[0;36m__init__\u001b[1;34m(self, **kwargs)\u001b[0m\n\u001b[0;32m     20\u001b[0m         \u001b[0msuper\u001b[0m\u001b[1;33m(\u001b[0m\u001b[1;33m)\u001b[0m\u001b[1;33m.\u001b[0m\u001b[0m__init__\u001b[0m\u001b[1;33m(\u001b[0m\u001b[1;33m**\u001b[0m\u001b[0mkwargs\u001b[0m\u001b[1;33m)\u001b[0m\u001b[1;33m\u001b[0m\u001b[1;33m\u001b[0m\u001b[0m\n\u001b[0;32m     21\u001b[0m \u001b[1;33m\u001b[0m\u001b[0m\n\u001b[1;32m---> 22\u001b[1;33m         \u001b[1;32mfrom\u001b[0m \u001b[0msqlalchemy\u001b[0m \u001b[1;32mimport\u001b[0m \u001b[0mcreate_engine\u001b[0m\u001b[1;33m\u001b[0m\u001b[1;33m\u001b[0m\u001b[0m\n\u001b[0m\u001b[0;32m     23\u001b[0m         \u001b[1;32mfrom\u001b[0m \u001b[0msqlalchemy\u001b[0m\u001b[1;33m.\u001b[0m\u001b[0morm\u001b[0m \u001b[1;32mimport\u001b[0m \u001b[0msessionmaker\u001b[0m\u001b[1;33m\u001b[0m\u001b[1;33m\u001b[0m\u001b[0m\n\u001b[0;32m     24\u001b[0m \u001b[1;33m\u001b[0m\u001b[0m\n",
      "\u001b[1;32m~\\anaconda3\\lib\\site-packages\\sqlalchemy\\__init__.py\u001b[0m in \u001b[0;36m<module>\u001b[1;34m\u001b[0m\n\u001b[0;32m      6\u001b[0m \u001b[1;31m# the MIT License: http://www.opensource.org/licenses/mit-license.php\u001b[0m\u001b[1;33m\u001b[0m\u001b[1;33m\u001b[0m\u001b[1;33m\u001b[0m\u001b[0m\n\u001b[0;32m      7\u001b[0m \u001b[1;33m\u001b[0m\u001b[0m\n\u001b[1;32m----> 8\u001b[1;33m \u001b[1;32mfrom\u001b[0m \u001b[1;33m.\u001b[0m \u001b[1;32mimport\u001b[0m \u001b[0mutil\u001b[0m \u001b[1;32mas\u001b[0m \u001b[0m_util\u001b[0m  \u001b[1;31m# noqa\u001b[0m\u001b[1;33m\u001b[0m\u001b[1;33m\u001b[0m\u001b[0m\n\u001b[0m\u001b[0;32m      9\u001b[0m \u001b[1;32mfrom\u001b[0m \u001b[1;33m.\u001b[0m\u001b[0minspection\u001b[0m \u001b[1;32mimport\u001b[0m \u001b[0minspect\u001b[0m  \u001b[1;31m# noqa\u001b[0m\u001b[1;33m\u001b[0m\u001b[1;33m\u001b[0m\u001b[0m\n\u001b[0;32m     10\u001b[0m \u001b[1;32mfrom\u001b[0m \u001b[1;33m.\u001b[0m\u001b[0mschema\u001b[0m \u001b[1;32mimport\u001b[0m \u001b[0mBLANK_SCHEMA\u001b[0m  \u001b[1;31m# noqa\u001b[0m\u001b[1;33m\u001b[0m\u001b[1;33m\u001b[0m\u001b[0m\n",
      "\u001b[1;32m~\\anaconda3\\lib\\site-packages\\sqlalchemy\\util\\__init__.py\u001b[0m in \u001b[0;36m<module>\u001b[1;34m\u001b[0m\n\u001b[0;32m     12\u001b[0m \u001b[1;32mfrom\u001b[0m \u001b[0mfunctools\u001b[0m \u001b[1;32mimport\u001b[0m \u001b[0mupdate_wrapper\u001b[0m  \u001b[1;31m# noqa\u001b[0m\u001b[1;33m\u001b[0m\u001b[1;33m\u001b[0m\u001b[0m\n\u001b[0;32m     13\u001b[0m \u001b[1;33m\u001b[0m\u001b[0m\n\u001b[1;32m---> 14\u001b[1;33m \u001b[1;32mfrom\u001b[0m \u001b[1;33m.\u001b[0m\u001b[0m_collections\u001b[0m \u001b[1;32mimport\u001b[0m \u001b[0mcoerce_generator_arg\u001b[0m  \u001b[1;31m# noqa\u001b[0m\u001b[1;33m\u001b[0m\u001b[1;33m\u001b[0m\u001b[0m\n\u001b[0m\u001b[0;32m     15\u001b[0m \u001b[1;32mfrom\u001b[0m \u001b[1;33m.\u001b[0m\u001b[0m_collections\u001b[0m \u001b[1;32mimport\u001b[0m \u001b[0mcollections_abc\u001b[0m  \u001b[1;31m# noqa\u001b[0m\u001b[1;33m\u001b[0m\u001b[1;33m\u001b[0m\u001b[0m\n\u001b[0;32m     16\u001b[0m \u001b[1;32mfrom\u001b[0m \u001b[1;33m.\u001b[0m\u001b[0m_collections\u001b[0m \u001b[1;32mimport\u001b[0m \u001b[0mcolumn_dict\u001b[0m  \u001b[1;31m# noqa\u001b[0m\u001b[1;33m\u001b[0m\u001b[1;33m\u001b[0m\u001b[0m\n",
      "\u001b[1;32m~\\anaconda3\\lib\\site-packages\\sqlalchemy\\util\\_collections.py\u001b[0m in \u001b[0;36m<module>\u001b[1;34m\u001b[0m\n\u001b[0;32m     14\u001b[0m \u001b[1;32mimport\u001b[0m \u001b[0mweakref\u001b[0m\u001b[1;33m\u001b[0m\u001b[1;33m\u001b[0m\u001b[0m\n\u001b[0;32m     15\u001b[0m \u001b[1;33m\u001b[0m\u001b[0m\n\u001b[1;32m---> 16\u001b[1;33m \u001b[1;32mfrom\u001b[0m \u001b[1;33m.\u001b[0m\u001b[0mcompat\u001b[0m \u001b[1;32mimport\u001b[0m \u001b[0mbinary_types\u001b[0m\u001b[1;33m\u001b[0m\u001b[1;33m\u001b[0m\u001b[0m\n\u001b[0m\u001b[0;32m     17\u001b[0m \u001b[1;32mfrom\u001b[0m \u001b[1;33m.\u001b[0m\u001b[0mcompat\u001b[0m \u001b[1;32mimport\u001b[0m \u001b[0mcollections_abc\u001b[0m\u001b[1;33m\u001b[0m\u001b[1;33m\u001b[0m\u001b[0m\n\u001b[0;32m     18\u001b[0m \u001b[1;32mfrom\u001b[0m \u001b[1;33m.\u001b[0m\u001b[0mcompat\u001b[0m \u001b[1;32mimport\u001b[0m \u001b[0mitertools_filterfalse\u001b[0m\u001b[1;33m\u001b[0m\u001b[1;33m\u001b[0m\u001b[0m\n",
      "\u001b[1;32m~\\anaconda3\\lib\\site-packages\\sqlalchemy\\util\\compat.py\u001b[0m in \u001b[0;36m<module>\u001b[1;34m\u001b[0m\n\u001b[0;32m    262\u001b[0m \u001b[1;33m\u001b[0m\u001b[0m\n\u001b[0;32m    263\u001b[0m \u001b[1;32mif\u001b[0m \u001b[0mwin32\u001b[0m \u001b[1;32mor\u001b[0m \u001b[0mjython\u001b[0m\u001b[1;33m:\u001b[0m\u001b[1;33m\u001b[0m\u001b[1;33m\u001b[0m\u001b[0m\n\u001b[1;32m--> 264\u001b[1;33m     \u001b[0mtime_func\u001b[0m \u001b[1;33m=\u001b[0m \u001b[0mtime\u001b[0m\u001b[1;33m.\u001b[0m\u001b[0mclock\u001b[0m\u001b[1;33m\u001b[0m\u001b[1;33m\u001b[0m\u001b[0m\n\u001b[0m\u001b[0;32m    265\u001b[0m \u001b[1;32melse\u001b[0m\u001b[1;33m:\u001b[0m\u001b[1;33m\u001b[0m\u001b[1;33m\u001b[0m\u001b[0m\n\u001b[0;32m    266\u001b[0m     \u001b[0mtime_func\u001b[0m \u001b[1;33m=\u001b[0m \u001b[0mtime\u001b[0m\u001b[1;33m.\u001b[0m\u001b[0mtime\u001b[0m\u001b[1;33m\u001b[0m\u001b[1;33m\u001b[0m\u001b[0m\n",
      "\u001b[1;31mAttributeError\u001b[0m: module 'time' has no attribute 'clock'"
     ]
    }
   ],
   "source": [
    "\n",
    "bot = ChatBot(\n",
    "    \"Luna\", \n",
    "storage_adapter='chatterbot.storage.SQLStorageAdapter', \n",
    "    logic_adapters = [\n",
    "        #'chatterbot.logic.TimeLogicAdapter',\n",
    "        'chatterbot.logic.BestMatch',  \n",
    "        #'chatterbot.logic.MathematicalEvaluation'\n",
    "    ],\n",
    "    preprocessors = [\n",
    "        'chatterbot.preprocessors.clean_whitespace',\n",
    "        'chatterbot.preprocessors.unescape_html',\n",
    "        'chatterbot.preprocessors.convert_to_ascii'\n",
    "    ], \n",
    "database='database.sqlite3',\n",
    "\n",
    "# Diz para o chaterbot se ele quer ou não armazene as conversas para responter mensagens futuras\n",
    "read_only = False\n",
    ")\n",
    "\n",
    "# Pode-se também usar uma base de treinamento\n",
    "conversa = ListTrainer(bot)\n",
    "conversa.train([\n",
    "    'Qual o seu nome?', 'Luna, sua amiga bot',\n",
    "    'Qual a sua bebida favorita?','',\n",
    "    'Conhece a Siri?', 'Conheço, a gente saiu por um tempo.',\n",
    "    'Conte uma história', 'Tudo começou com a forja dos Grandes Aneis. Três foram dados aos Elfos, imortais... os mais sabios e belos de todos os seres. Sete, aos Senhores-Anões...',\n",
    "    'Cante uma música', 'la la la la la la la',\n",
    "    'Quantos anos você tem?', 'Eu nasci em 2021, sou um baby, rs.',\n",
    "    'Conte uma piada?', 'Pau no cu do Bolsonaro.',\n",
    "    'Qual o seu gênero?', 'Sou um chatbot e gosto de algoritmos','O que você faz?', 'Eu bebo e sei das coisas',\n",
    "    'Prazer em te conhecer', 'Igualmente meu querido',\n",
    "])\n",
    "\n",
    "# aqui pode ser usado a base portuguese\n",
    "# conversa = ChatterBotCorpusTrainer(bot)\n",
    "# conversa.train('chatterbot.corpus.portuguese')\n",
    "\n",
    "# ou também pode-se usar uma outra criada - ex: conversa.train(''arquivoDeTreino.yml'')\n",
    "# conversa = ListTrainer(bot)\n",
    "# conversa =  conversa.train('arquivoDeTreino.txt')\n"
   ]
  },
  {
   "cell_type": "code",
   "execution_count": null,
   "id": "3eda3843",
   "metadata": {},
   "outputs": [],
   "source": [
    "pip3 uninstall PyCrypto\n",
    "pip3 install -U PyCryptodome"
   ]
  },
  {
   "cell_type": "code",
   "execution_count": null,
   "id": "efad1afb",
   "metadata": {},
   "outputs": [],
   "source": [
    "#Limpar memoria\n",
    "chatbot.storage.drop()"
   ]
  },
  {
   "cell_type": "code",
   "execution_count": null,
   "id": "0ec32818",
   "metadata": {},
   "outputs": [],
   "source": [
    "#Pegar uma resposta\n",
    "#chatbot.get_response(\"Luna\")"
   ]
  },
  {
   "cell_type": "code",
   "execution_count": null,
   "id": "7ecfd42c",
   "metadata": {},
   "outputs": [],
   "source": [
    "while True:\n",
    "    mensagem = ouvir_microfone()\n",
    "    if mensagem == \"obrigado\":\n",
    "        print(\"Me chame quando eu puder ajudar\")\n",
    "        break\n",
    "        \n",
    "    resposta = chatbot.get_response(mensagem)\n",
    "    criar_audio(str(resposta))\n",
    "    print(resposta)"
   ]
  },
  {
   "cell_type": "code",
   "execution_count": null,
   "id": "53aa6a0c",
   "metadata": {},
   "outputs": [],
   "source": []
  },
  {
   "cell_type": "code",
   "execution_count": null,
   "id": "6606d63d",
   "metadata": {},
   "outputs": [],
   "source": []
  },
  {
   "cell_type": "code",
   "execution_count": null,
   "id": "d9e1711d",
   "metadata": {},
   "outputs": [],
   "source": [
    "\n",
    "    \n",
    "       \n",
    "   "
   ]
  },
  {
   "cell_type": "code",
   "execution_count": null,
   "id": "c31eea5c",
   "metadata": {},
   "outputs": [],
   "source": []
  }
 ],
 "metadata": {
  "kernelspec": {
   "display_name": "Python 3",
   "language": "python",
   "name": "python3"
  },
  "language_info": {
   "codemirror_mode": {
    "name": "ipython",
    "version": 3
   },
   "file_extension": ".py",
   "mimetype": "text/x-python",
   "name": "python",
   "nbconvert_exporter": "python",
   "pygments_lexer": "ipython3",
   "version": "3.8.8"
  }
 },
 "nbformat": 4,
 "nbformat_minor": 5
}
