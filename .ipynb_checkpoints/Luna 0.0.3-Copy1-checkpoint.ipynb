{
 "cells": [
  {
   "cell_type": "code",
   "execution_count": 2,
   "id": "628bf2e1",
   "metadata": {},
   "outputs": [
    {
     "name": "stdout",
     "output_type": "stream",
     "text": [
      "Requirement already satisfied: chatterbot==1.0.4 in c:\\users\\pichau\\anaconda3\\envs\\chatbotpython\\lib\\site-packages (1.0.4)\n",
      "Requirement already satisfied: pint>=0.8.1 in c:\\users\\pichau\\anaconda3\\envs\\chatbotpython\\lib\\site-packages (from chatterbot==1.0.4) (0.17)\n",
      "Requirement already satisfied: python-dateutil<2.8,>=2.7 in c:\\users\\pichau\\anaconda3\\envs\\chatbotpython\\lib\\site-packages (from chatterbot==1.0.4) (2.7.5)\n",
      "Requirement already satisfied: chatterbot-corpus<1.3,>=1.2 in c:\\users\\pichau\\anaconda3\\envs\\chatbotpython\\lib\\site-packages (from chatterbot==1.0.4) (1.2.0)\n",
      "Requirement already satisfied: nltk<4.0,>=3.2 in c:\\users\\pichau\\anaconda3\\envs\\chatbotpython\\lib\\site-packages (from chatterbot==1.0.4) (3.6.2)\n",
      "Requirement already satisfied: pymongo<4.0,>=3.3 in c:\\users\\pichau\\anaconda3\\envs\\chatbotpython\\lib\\site-packages (from chatterbot==1.0.4) (3.12.0)\n",
      "Requirement already satisfied: sqlalchemy<1.3,>=1.2 in c:\\users\\pichau\\anaconda3\\envs\\chatbotpython\\lib\\site-packages (from chatterbot==1.0.4) (1.2.19)\n",
      "Requirement already satisfied: mathparse<0.2,>=0.1 in c:\\users\\pichau\\anaconda3\\envs\\chatbotpython\\lib\\site-packages (from chatterbot==1.0.4) (0.1.2)\n",
      "Requirement already satisfied: PyYAML<4.0,>=3.12 in c:\\users\\pichau\\anaconda3\\envs\\chatbotpython\\lib\\site-packages (from chatterbot-corpus<1.3,>=1.2->chatterbot==1.0.4) (3.13)\n",
      "Requirement already satisfied: tqdm in c:\\users\\pichau\\anaconda3\\envs\\chatbotpython\\lib\\site-packages (from nltk<4.0,>=3.2->chatterbot==1.0.4) (4.62.2)\n",
      "Requirement already satisfied: joblib in c:\\users\\pichau\\anaconda3\\envs\\chatbotpython\\lib\\site-packages (from nltk<4.0,>=3.2->chatterbot==1.0.4) (1.0.1)\n",
      "Requirement already satisfied: click in c:\\users\\pichau\\anaconda3\\envs\\chatbotpython\\lib\\site-packages (from nltk<4.0,>=3.2->chatterbot==1.0.4) (7.1.2)\n",
      "Requirement already satisfied: regex in c:\\users\\pichau\\anaconda3\\envs\\chatbotpython\\lib\\site-packages (from nltk<4.0,>=3.2->chatterbot==1.0.4) (2021.8.28)\n",
      "Requirement already satisfied: importlib-metadata in c:\\users\\pichau\\anaconda3\\envs\\chatbotpython\\lib\\site-packages (from pint>=0.8.1->chatterbot==1.0.4) (4.8.1)\n",
      "Requirement already satisfied: importlib-resources in c:\\users\\pichau\\anaconda3\\envs\\chatbotpython\\lib\\site-packages (from pint>=0.8.1->chatterbot==1.0.4) (5.2.2)\n",
      "Requirement already satisfied: packaging in c:\\users\\pichau\\anaconda3\\envs\\chatbotpython\\lib\\site-packages (from pint>=0.8.1->chatterbot==1.0.4) (21.0)\n",
      "Requirement already satisfied: six>=1.5 in c:\\users\\pichau\\anaconda3\\envs\\chatbotpython\\lib\\site-packages (from python-dateutil<2.8,>=2.7->chatterbot==1.0.4) (1.16.0)\n",
      "Requirement already satisfied: typing-extensions>=3.6.4 in c:\\users\\pichau\\anaconda3\\envs\\chatbotpython\\lib\\site-packages (from importlib-metadata->pint>=0.8.1->chatterbot==1.0.4) (3.10.0.2)\n",
      "Requirement already satisfied: zipp>=0.5 in c:\\users\\pichau\\anaconda3\\envs\\chatbotpython\\lib\\site-packages (from importlib-metadata->pint>=0.8.1->chatterbot==1.0.4) (3.5.0)\n",
      "Requirement already satisfied: pyparsing>=2.0.2 in c:\\users\\pichau\\anaconda3\\envs\\chatbotpython\\lib\\site-packages (from packaging->pint>=0.8.1->chatterbot==1.0.4) (2.4.7)\n",
      "Requirement already satisfied: colorama in c:\\users\\pichau\\anaconda3\\envs\\chatbotpython\\lib\\site-packages (from tqdm->nltk<4.0,>=3.2->chatterbot==1.0.4) (0.3.7)\n",
      "Requirement already satisfied: ChatterBot-corpus in c:\\users\\pichau\\anaconda3\\envs\\chatbotpython\\lib\\site-packages (1.2.0)\n",
      "Requirement already satisfied: PyYAML<4.0,>=3.12 in c:\\users\\pichau\\anaconda3\\envs\\chatbotpython\\lib\\site-packages (from ChatterBot-corpus) (3.13)\n",
      "Requirement already satisfied: awscli==1.11.18 in c:\\users\\pichau\\anaconda3\\envs\\chatbotpython\\lib\\site-packages (1.11.18)\n",
      "Requirement already satisfied: s3transfer<0.2.0,>=0.1.9 in c:\\users\\pichau\\anaconda3\\envs\\chatbotpython\\lib\\site-packages (from awscli==1.11.18) (0.1.13)\n",
      "Requirement already satisfied: rsa<=3.5.0,>=3.1.2 in c:\\users\\pichau\\anaconda3\\envs\\chatbotpython\\lib\\site-packages (from awscli==1.11.18) (3.4.2)\n",
      "Requirement already satisfied: docutils>=0.10 in c:\\users\\pichau\\anaconda3\\envs\\chatbotpython\\lib\\site-packages (from awscli==1.11.18) (0.17.1)\n",
      "Requirement already satisfied: botocore==1.4.75 in c:\\users\\pichau\\anaconda3\\envs\\chatbotpython\\lib\\site-packages (from awscli==1.11.18) (1.4.75)\n",
      "Requirement already satisfied: colorama<=0.3.7,>=0.2.5 in c:\\users\\pichau\\anaconda3\\envs\\chatbotpython\\lib\\site-packages (from awscli==1.11.18) (0.3.7)\n",
      "Requirement already satisfied: python-dateutil<3.0.0,>=2.1 in c:\\users\\pichau\\anaconda3\\envs\\chatbotpython\\lib\\site-packages (from botocore==1.4.75->awscli==1.11.18) (2.7.5)\n",
      "Requirement already satisfied: jmespath<1.0.0,>=0.7.1 in c:\\users\\pichau\\anaconda3\\envs\\chatbotpython\\lib\\site-packages (from botocore==1.4.75->awscli==1.11.18) (0.10.0)\n",
      "Requirement already satisfied: six>=1.5 in c:\\users\\pichau\\anaconda3\\envs\\chatbotpython\\lib\\site-packages (from python-dateutil<3.0.0,>=2.1->botocore==1.4.75->awscli==1.11.18) (1.16.0)\n",
      "Requirement already satisfied: pyasn1>=0.1.3 in c:\\users\\pichau\\anaconda3\\envs\\chatbotpython\\lib\\site-packages (from rsa<=3.5.0,>=3.1.2->awscli==1.11.18) (0.4.8)\n"
     ]
    }
   ],
   "source": [
    "!pip install chatterbot==1.0.4\n",
    "!pip install ChatterBot-corpus\n",
    "!pip install awscli==1.11.18"
   ]
  },
  {
   "cell_type": "code",
   "execution_count": 3,
   "id": "f78f8dac",
   "metadata": {},
   "outputs": [
    {
     "name": "stdout",
     "output_type": "stream",
     "text": [
      "✔ Download and installation successful\n",
      "You can now load the package via spacy.load('en_core_web_sm')\n"
     ]
    }
   ],
   "source": [
    "#Importar \n",
    "from chatterbot import ChatBot\n",
    "from chatterbot.trainers import ListTrainer\n",
    "\n",
    "import spacy\n",
    "from spacy.cli.download import download\n",
    "download(model=\"en_core_web_sm\")\n",
    "\n",
    "class ENGSM:\n",
    "    ISO_639_1 = 'en_core_web_sm'    "
   ]
  },
  {
   "cell_type": "code",
   "execution_count": 6,
   "id": "a69ac3be",
   "metadata": {},
   "outputs": [
    {
     "name": "stdout",
     "output_type": "stream",
     "text": [
      "List Trainer: [####################] 100%\n"
     ]
    },
    {
     "name": "stderr",
     "output_type": "stream",
     "text": [
      "[nltk_data] Downloading package averaged_perceptron_tagger to\n",
      "[nltk_data]     C:\\Users\\Pichau\\AppData\\Roaming\\nltk_data...\n",
      "[nltk_data]   Package averaged_perceptron_tagger is already up-to-\n",
      "[nltk_data]       date!\n",
      "[nltk_data] Downloading package punkt to\n",
      "[nltk_data]     C:\\Users\\Pichau\\AppData\\Roaming\\nltk_data...\n",
      "[nltk_data]   Package punkt is already up-to-date!\n",
      "[nltk_data] Downloading package stopwords to\n",
      "[nltk_data]     C:\\Users\\Pichau\\AppData\\Roaming\\nltk_data...\n",
      "[nltk_data]   Package stopwords is already up-to-date!\n"
     ]
    }
   ],
   "source": [
    "chatbot = ChatBot(\n",
    "    'Luna',\n",
    "    storage_adapter='chatterbot.storage.SQLStorageAdapter',\n",
    "    logic_adapters=[\n",
    "        'chatterbot.logic.MathematicalEvaluation',\n",
    "        #'chatterbot.logic.TimeLogicAdapter',\n",
    "        'chatterbot.logic.BestMatch'],\n",
    "    database_uri='sqlite:///database.sqlite3'\n",
    ")\n",
    "\n",
    "conversa= [\n",
    "    \"Luna\",\n",
    "    \"Olá, posso te ajudar?\",\n",
    "    \"Qual o seu nome?\",\n",
    "    \"Meu nome é Luna\",\n",
    "    \"Quantos anos voce tem\",\n",
    "    \"Eu nasci na data de 12/09/2021\",\n",
    "    \"De que voce gosta ?\",\n",
    "    \"Gosto de ajudar\",\n",
    "    \"E voce?\",\n",
    "    \"Gosto de muitas coisas\",\n",
    "    \"Pode me falar uma delas?\",\n",
    "    \"Conversar por exemplo\",\n",
    "]\n",
    "\n",
    "trainer = ListTrainer(chatbot)\n",
    "trainer.train(conversa)\n"
   ]
  },
  {
   "cell_type": "code",
   "execution_count": 7,
   "id": "7ecfd42c",
   "metadata": {},
   "outputs": [],
   "source": [
    "#Pegar uma resposta\n",
    "#chatbot.get_response(\"Luna\")"
   ]
  },
  {
   "cell_type": "code",
   "execution_count": null,
   "id": "efad1afb",
   "metadata": {},
   "outputs": [],
   "source": [
    "#Limpar memoria\n",
    "#chatbot.storage.drop()"
   ]
  },
  {
   "cell_type": "code",
   "execution_count": null,
   "id": "d9e1711d",
   "metadata": {},
   "outputs": [
    {
     "name": "stdout",
     "output_type": "stream",
     "text": [
      "Olá usuário:E voce\n",
      "e = 2.718281\n",
      "Olá usuário:nao\n",
      "E voce?\n",
      "Olá usuário:Doque voce gosta?\n",
      "Que fome\n",
      "Olá usuário:Doque voce gosta de comer?\n",
      "Gosto de ajudar\n",
      "Olá usuário:E dançar?\n",
      "e = 2.718281\n",
      "Olá usuário:pi\n",
      "pi = 3.141693\n",
      "Olá usuário:dançar\n",
      "Que legal\n",
      "Olá usuário:Dança comigo?\n",
      "Quantos anos voce tem\n",
      "Olá usuário:8\n",
      "8 = 8\n",
      "Olá usuário:Será?\n",
      "Pode me falar uma delas?\n",
      "Olá usuário:Luna\n",
      "Olá, posso te ajudar?\n",
      "Olá usuário:Nao\n",
      "Que legal\n",
      "Olá usuário:Doque voce gosta?\n",
      "Gosto de muitas coisas\n"
     ]
    }
   ],
   "source": [
    "while True:\n",
    "    mensagem = input(\"Olá usuário:\") (\"piada\")\n",
    "    if mensagem == \"Obrigado\":\n",
    "        print(\"Me chame quando eu puder ajudar\")\n",
    "        break\n",
    "    \n",
    "    print(resposta)\n",
    "    \n",
    "       \n",
    "   "
   ]
  },
  {
   "cell_type": "code",
   "execution_count": null,
   "id": "5790f58a",
   "metadata": {},
   "outputs": [],
   "source": []
  }
 ],
 "metadata": {
  "kernelspec": {
   "display_name": "Python 3",
   "language": "python",
   "name": "python3"
  },
  "language_info": {
   "codemirror_mode": {
    "name": "ipython",
    "version": 3
   },
   "file_extension": ".py",
   "mimetype": "text/x-python",
   "name": "python",
   "nbconvert_exporter": "python",
   "pygments_lexer": "ipython3",
   "version": "3.6.13"
  }
 },
 "nbformat": 4,
 "nbformat_minor": 5
}
