{
 "cells": [
  {
   "cell_type": "code",
   "execution_count": null,
   "id": "628bf2e1",
   "metadata": {},
   "outputs": [],
   "source": [
    "#Instalando versão 1.0.4 do chaterbot (a versão normal não funciona aparentemente com o Anaconda 3.8)\n",
    "# Para ver a versão do chatterbot usa python -m chatterbot --version\n",
    "\n",
    "!pip install chatterbot==1.0.4\n",
    "#!pip install ChatterBot-corpus\n",
    "!pip install awscli==1.11.18\n",
    "!pip install spacy\n",
    "!pip install SpeechRecognition\n",
    "!pip install gTTS"
   ]
  },
  {
   "cell_type": "code",
   "execution_count": null,
   "id": "783bdbbb",
   "metadata": {},
   "outputs": [],
   "source": [
    "!pip3 install chatterbot_corpus"
   ]
  },
  {
   "cell_type": "code",
   "execution_count": null,
   "id": "8d4ef526",
   "metadata": {},
   "outputs": [],
   "source": [
    "!pip install pyttsx3\n",
    "!pip install pipwin\n",
    "!pip install playsound\n"
   ]
  },
  {
   "cell_type": "code",
   "execution_count": null,
   "id": "1d7bfa3b",
   "metadata": {},
   "outputs": [],
   "source": [
    "!pip install pyaudio\n",
    "#CMD\n",
    "#  pip install pipwin\n",
    "#  pipwin install pyaudio"
   ]
  },
  {
   "cell_type": "code",
   "execution_count": null,
   "id": "404803df",
   "metadata": {},
   "outputs": [],
   "source": [
    "!pip install pyyaml"
   ]
  },
  {
   "cell_type": "code",
   "execution_count": null,
   "id": "974d500f",
   "metadata": {},
   "outputs": [],
   "source": [
    "!pip3 install chatterbot-corpus"
   ]
  },
  {
   "cell_type": "code",
   "execution_count": null,
   "id": "f78f8dac",
   "metadata": {},
   "outputs": [],
   "source": [
    "#Importar \n",
    "# import speech_recognition as sr\n",
    "\n",
    "# from chatterbot import ChatBot\n",
    "# from chatterbot.trainers import ListTrainer\n",
    "\n",
    "# from gtts import gTTS\n",
    "# from playsound import playsound "
   ]
  },
  {
   "cell_type": "code",
   "execution_count": null,
   "id": "cf217970",
   "metadata": {},
   "outputs": [],
   "source": [
    "# import spacy\n",
    "# from spacy.cli.download import download\n",
    "# #download(model=\"en_core_web_sm\")\n",
    "\n",
    "# class ENGSM:\n",
    "#     ISO_639_1 = 'en_core_web_sm'    "
   ]
  },
  {
   "cell_type": "code",
   "execution_count": null,
   "id": "6e427321",
   "metadata": {},
   "outputs": [],
   "source": [
    "# import spacy\n",
    "# from spacy.cli.download import download\n",
    "# download(model=\"en\")"
   ]
  },
  {
   "cell_type": "code",
   "execution_count": null,
   "id": "c1d272af",
   "metadata": {},
   "outputs": [],
   "source": [
    "# ir até o local C:\\Users\\Raquel\\anaconda3\\Lib\\site-packages\\sqlalchemy\\util, \n",
    "# abrir o arquivo compat e editar a linha 264 (colocar time.time no lugar de time.clock . Time.clock dá erro no Anaconda 3.8)\n",
    "\n",
    "from chatterbot import ChatBot\n",
    "\n",
    "# Trainer é a lista de diálogos que serão base de diálogo do bot.\n",
    "# Trainer está usando as formas Curpus e List: \n",
    "# Corpus é um arquivo que contém diálogos comuns (documentaçao em https://github.com/gunthercox/chatterbot-corpus/blob/master/chatterbot_corpus/data/portuguese/compliment.yml)\n",
    "# e list é uma lista criada por mim\n",
    "from chatterbot.trainers import ListTrainer\n",
    "from chatterbot.trainers import ChatterBotCorpusTrainer\n",
    "\n",
    "# flask  é um micro framework que utiliza a linguagem Python para criar aplicativos Web.\n",
    "# https://towardsdatascience.com/beginners-guide-to-creating-a-powerful-chatbot-48fc6b073e55\n",
    "# https://github.com/louisteo9/chatbot/blob/main/chatbot_training.py\n",
    "from flask import Flask, render_template, request\n",
    "\n",
    "\n",
    "#Importar Speech Recognation\n",
    "import speech_recognition as sr\n",
    "import pyttsx3  \n",
    "\n",
    "\n",
    "#from gtts import gTTS\n",
    "#from playsound import playsound \n",
    "\n",
    "# Esse banco criado é onde o chatbot vai guardar as respostas das minhas interações com ele, \n",
    "# e a partir delas, aprender e refinar a “conversa”\n",
    "# O único parametro exigido para o Chatbot é o nome (no caso, Luna)\n",
    "# Preprocessor são declarados para limpar espaços,converter caracteres html etc."
   ]
  },
  {
   "cell_type": "code",
   "execution_count": null,
   "id": "a69ac3be",
   "metadata": {},
   "outputs": [],
   "source": [
    "\n",
    "bot = ChatBot(\n",
    "    \"Luna\", \n",
    "storage_adapter='chatterbot.storage.SQLStorageAdapter', \n",
    "    logic_adapters = [\n",
    "        #'chatterbot.logic.TimeLogicAdapter',\n",
    "        'chatterbot.logic.BestMatch',  \n",
    "        'chatterbot.logic.MathematicalEvaluation'\n",
    "    ],\n",
    "    preprocessors = [\n",
    "        'chatterbot.preprocessors.clean_whitespace',\n",
    "        'chatterbot.preprocessors.unescape_html',\n",
    "        'chatterbot.preprocessors.convert_to_ascii'\n",
    "    ], \n",
    "database='database.sqlite3',\n",
    "\n",
    "# Diz para o chaterbot se ele quer ou não armazene as conversas para responter mensagens futuras\n",
    "read_only = False\n",
    ")\n",
    "\n",
    "# Pode-se também usar uma base de treinamento\n",
    "conversa = ListTrainer(bot)\n",
    "conversa.train([\n",
    "    'Qual o seu nome?', 'Luna, sua amiga bot',\n",
    "    'Qual a sua bebida favorita?','',\n",
    "    'Conhece a Siri?', 'Conheço, a gente saiu por um tempo.',\n",
    "    'Conte uma história', 'Tudo começou com a forja dos Grandes Aneis. Três foram dados aos Elfos, imortais... os mais sabios e belos de todos os seres. Sete, aos Senhores-Anões...',\n",
    "    'Cante uma música', 'la la la la la la la',\n",
    "    'Quantos anos você tem?', 'Eu nasci em 2021, sou um baby, rs.',\n",
    "    'Conte uma piada?', 'Pau no cu do Bolsonaro.',\n",
    "    'Qual o seu gênero?', 'Sou um chatbot e gosto de algoritmos','O que você faz?', 'Eu bebo e sei das coisas',\n",
    "    'Prazer em te conhecer', 'Igualmente meu querido',\n",
    "])\n",
    "\n",
    "# aqui pode ser usado a base portuguese\n",
    "# conversa = ChatterBotCorpusTrainer(bot)\n",
    "# conversa.train('chatterbot.corpus.portuguese')\n",
    "\n",
    "# ou também pode-se usar uma outra criada - ex: conversa.train(''arquivoDeTreino.yml'')\n",
    "# conversa = ListTrainer(bot)\n",
    "# conversa =  conversa.train('arquivoDeTreino.txt')\n"
   ]
  },
  {
   "cell_type": "code",
   "execution_count": null,
   "id": "5dcecb3f",
   "metadata": {},
   "outputs": [],
   "source": [
    "def ouvir_microfone():\n",
    "    global token\n",
    "    \n",
    "    microfone=sr.Recognizer()\n",
    "       \n",
    "    \n",
    "    with sr.Microphone() as source:\n",
    "        microfone.adjust_for_ambient_noise(source)\n",
    "        print(\"Estou ouvindo...\")\n",
    "        audio=microfone.listen(source)\n",
    "        print(\"audio\")\n",
    "        try:\n",
    "            frase=microfone.recognize_google(audio,language='pt-BR')\n",
    "        except sr.UnknownValueError:\n",
    "            print(\"Luna:Não entendi\")\n",
    "            print(frase)\n",
    "        return frase\n",
    "            "
   ]
  },
  {
   "cell_type": "code",
   "execution_count": null,
   "id": "b97c9287",
   "metadata": {},
   "outputs": [],
   "source": [
    "def criar_audio(audio):\n",
    "    global token\n",
    "    tts= gTTS(audio, lang=\"pt-BR\")\n",
    "    tts.save('botvoice.mp3')\n",
    "    playsound('botvoice.mp3')"
   ]
  },
  {
   "cell_type": "code",
   "execution_count": null,
   "id": "efad1afb",
   "metadata": {},
   "outputs": [],
   "source": [
    "#Limpar memoria\n",
    "#chatbot.storage.drop()"
   ]
  },
  {
   "cell_type": "code",
   "execution_count": null,
   "id": "0ec32818",
   "metadata": {},
   "outputs": [],
   "source": [
    "#Pegar uma resposta\n",
    "#bot.get_response(\"Luna\")"
   ]
  },
  {
   "cell_type": "code",
   "execution_count": null,
   "id": "7ecfd42c",
   "metadata": {},
   "outputs": [],
   "source": [
    "while True:\n",
    "    mensagem = ouvir_microfone()\n",
    "    resposta = ChatBot.get_response(mensagem)\n",
    "    \n",
    "    if mensagem.strip() == 'Bye':\n",
    "        print('ChatBot: Bye')\n",
    "        break\n",
    "    else:\n",
    "        reply = ChatBot.get_response(mensagem)\n",
    "        print('ChatBot:', resposta)\n",
    "        \n",
    "#     if mensagem == \"obrigado\":\n",
    "#         print(\"Me chame quando eu puder ajudar\")\n",
    "#         break   \n",
    "   \n",
    "#     criar_audio(resposta)\n",
    "#     print(resposta)"
   ]
  },
  {
   "cell_type": "code",
   "execution_count": null,
   "id": "7e3228fb",
   "metadata": {},
   "outputs": [],
   "source": [
    "import speech_recognition as sr \n",
    "\n",
    "def SpeakText(command): \n",
    "      \n",
    "    \n",
    "    engine = pyttsx3.init() \n",
    "    engine.say(command)  \n",
    "    engine.runAndWait() \n",
    "      \n",
    "      \n",
    "  \n",
    "while(1):     \n",
    "      \n",
    "    \n",
    "    \n",
    "    try: \n",
    "        \n",
    "        with sr.Microphone() as source2: \n",
    "                      r.adjust_for_ambient_noise(source2, duration=0.2) \n",
    "                  audio2 = r.listen(source2) \n",
    "                  MyText = r.recognize_google(audio2) \n",
    "            MyText = MyText.lower() \n",
    "    print(\"Did you say \"+MyText) \n",
    "            SpeakText(MyText) \n",
    "              \n",
    "    except sr.RequestError as e: \n",
    "        print(\"Could not request results; {0}\".format(e)) \n",
    "          \n",
    "    except sr.UnknownValueError: \n",
    "        print(\"unknown error occured\")"
   ]
  },
  {
   "cell_type": "code",
   "execution_count": null,
   "id": "53aa6a0c",
   "metadata": {},
   "outputs": [],
   "source": []
  },
  {
   "cell_type": "code",
   "execution_count": null,
   "id": "6606d63d",
   "metadata": {},
   "outputs": [],
   "source": []
  },
  {
   "cell_type": "code",
   "execution_count": null,
   "id": "c31eea5c",
   "metadata": {},
   "outputs": [],
   "source": []
  }
 ],
 "metadata": {
  "kernelspec": {
   "display_name": "Python 3",
   "language": "python",
   "name": "python3"
  },
  "language_info": {
   "codemirror_mode": {
    "name": "ipython",
    "version": 3
   },
   "file_extension": ".py",
   "mimetype": "text/x-python",
   "name": "python",
   "nbconvert_exporter": "python",
   "pygments_lexer": "ipython3",
   "version": "3.8.8"
  }
 },
 "nbformat": 4,
 "nbformat_minor": 5
}
