{
 "cells": [
  {
   "cell_type": "code",
   "execution_count": 1,
   "id": "628bf2e1",
   "metadata": {},
   "outputs": [
    {
     "name": "stdout",
     "output_type": "stream",
     "text": [
      "Requirement already satisfied: chatterbot==1.0.4 in c:\\users\\pichau\\anaconda3\\envs\\chatbotpython\\lib\\site-packages (1.0.4)\n",
      "Requirement already satisfied: chatterbot-corpus<1.3,>=1.2 in c:\\users\\pichau\\anaconda3\\envs\\chatbotpython\\lib\\site-packages (from chatterbot==1.0.4) (1.2.0)\n",
      "Requirement already satisfied: pymongo<4.0,>=3.3 in c:\\users\\pichau\\anaconda3\\envs\\chatbotpython\\lib\\site-packages (from chatterbot==1.0.4) (3.12.0)\n",
      "Requirement already satisfied: sqlalchemy<1.3,>=1.2 in c:\\users\\pichau\\anaconda3\\envs\\chatbotpython\\lib\\site-packages (from chatterbot==1.0.4) (1.2.19)\n",
      "Requirement already satisfied: pint>=0.8.1 in c:\\users\\pichau\\anaconda3\\envs\\chatbotpython\\lib\\site-packages (from chatterbot==1.0.4) (0.17)\n",
      "Requirement already satisfied: mathparse<0.2,>=0.1 in c:\\users\\pichau\\anaconda3\\envs\\chatbotpython\\lib\\site-packages (from chatterbot==1.0.4) (0.1.2)\n",
      "Requirement already satisfied: nltk<4.0,>=3.2 in c:\\users\\pichau\\anaconda3\\envs\\chatbotpython\\lib\\site-packages (from chatterbot==1.0.4) (3.6.2)\n",
      "Requirement already satisfied: python-dateutil<2.8,>=2.7 in c:\\users\\pichau\\anaconda3\\envs\\chatbotpython\\lib\\site-packages (from chatterbot==1.0.4) (2.7.5)\n",
      "Requirement already satisfied: PyYAML<4.0,>=3.12 in c:\\users\\pichau\\anaconda3\\envs\\chatbotpython\\lib\\site-packages (from chatterbot-corpus<1.3,>=1.2->chatterbot==1.0.4) (3.13)\n",
      "Requirement already satisfied: joblib in c:\\users\\pichau\\anaconda3\\envs\\chatbotpython\\lib\\site-packages (from nltk<4.0,>=3.2->chatterbot==1.0.4) (1.0.1)\n",
      "Requirement already satisfied: regex in c:\\users\\pichau\\anaconda3\\envs\\chatbotpython\\lib\\site-packages (from nltk<4.0,>=3.2->chatterbot==1.0.4) (2021.8.28)\n",
      "Requirement already satisfied: click in c:\\users\\pichau\\anaconda3\\envs\\chatbotpython\\lib\\site-packages (from nltk<4.0,>=3.2->chatterbot==1.0.4) (7.1.2)\n",
      "Requirement already satisfied: tqdm in c:\\users\\pichau\\anaconda3\\envs\\chatbotpython\\lib\\site-packages (from nltk<4.0,>=3.2->chatterbot==1.0.4) (4.62.2)\n",
      "Requirement already satisfied: packaging in c:\\users\\pichau\\anaconda3\\envs\\chatbotpython\\lib\\site-packages (from pint>=0.8.1->chatterbot==1.0.4) (21.0)\n",
      "Requirement already satisfied: importlib-resources in c:\\users\\pichau\\anaconda3\\envs\\chatbotpython\\lib\\site-packages (from pint>=0.8.1->chatterbot==1.0.4) (5.2.2)\n",
      "Requirement already satisfied: importlib-metadata in c:\\users\\pichau\\anaconda3\\envs\\chatbotpython\\lib\\site-packages (from pint>=0.8.1->chatterbot==1.0.4) (4.8.1)\n",
      "Requirement already satisfied: six>=1.5 in c:\\users\\pichau\\anaconda3\\envs\\chatbotpython\\lib\\site-packages (from python-dateutil<2.8,>=2.7->chatterbot==1.0.4) (1.16.0)\n",
      "Requirement already satisfied: zipp>=0.5 in c:\\users\\pichau\\anaconda3\\envs\\chatbotpython\\lib\\site-packages (from importlib-metadata->pint>=0.8.1->chatterbot==1.0.4) (3.5.0)\n",
      "Requirement already satisfied: typing-extensions>=3.6.4 in c:\\users\\pichau\\anaconda3\\envs\\chatbotpython\\lib\\site-packages (from importlib-metadata->pint>=0.8.1->chatterbot==1.0.4) (3.10.0.2)\n",
      "Requirement already satisfied: pyparsing>=2.0.2 in c:\\users\\pichau\\anaconda3\\envs\\chatbotpython\\lib\\site-packages (from packaging->pint>=0.8.1->chatterbot==1.0.4) (2.4.7)\n",
      "Requirement already satisfied: colorama in c:\\users\\pichau\\anaconda3\\envs\\chatbotpython\\lib\\site-packages (from tqdm->nltk<4.0,>=3.2->chatterbot==1.0.4) (0.3.7)\n",
      "Requirement already satisfied: ChatterBot-corpus in c:\\users\\pichau\\anaconda3\\envs\\chatbotpython\\lib\\site-packages (1.2.0)\n",
      "Requirement already satisfied: PyYAML<4.0,>=3.12 in c:\\users\\pichau\\anaconda3\\envs\\chatbotpython\\lib\\site-packages (from ChatterBot-corpus) (3.13)\n",
      "Requirement already satisfied: awscli==1.11.18 in c:\\users\\pichau\\anaconda3\\envs\\chatbotpython\\lib\\site-packages (1.11.18)\n",
      "Requirement already satisfied: rsa<=3.5.0,>=3.1.2 in c:\\users\\pichau\\anaconda3\\envs\\chatbotpython\\lib\\site-packages (from awscli==1.11.18) (3.4.2)\n",
      "Requirement already satisfied: docutils>=0.10 in c:\\users\\pichau\\anaconda3\\envs\\chatbotpython\\lib\\site-packages (from awscli==1.11.18) (0.17.1)\n",
      "Requirement already satisfied: colorama<=0.3.7,>=0.2.5 in c:\\users\\pichau\\anaconda3\\envs\\chatbotpython\\lib\\site-packages (from awscli==1.11.18) (0.3.7)\n",
      "Requirement already satisfied: s3transfer<0.2.0,>=0.1.9 in c:\\users\\pichau\\anaconda3\\envs\\chatbotpython\\lib\\site-packages (from awscli==1.11.18) (0.1.13)\n",
      "Requirement already satisfied: botocore==1.4.75 in c:\\users\\pichau\\anaconda3\\envs\\chatbotpython\\lib\\site-packages (from awscli==1.11.18) (1.4.75)\n",
      "Requirement already satisfied: jmespath<1.0.0,>=0.7.1 in c:\\users\\pichau\\anaconda3\\envs\\chatbotpython\\lib\\site-packages (from botocore==1.4.75->awscli==1.11.18) (0.10.0)\n",
      "Requirement already satisfied: python-dateutil<3.0.0,>=2.1 in c:\\users\\pichau\\anaconda3\\envs\\chatbotpython\\lib\\site-packages (from botocore==1.4.75->awscli==1.11.18) (2.7.5)\n",
      "Requirement already satisfied: six>=1.5 in c:\\users\\pichau\\anaconda3\\envs\\chatbotpython\\lib\\site-packages (from python-dateutil<3.0.0,>=2.1->botocore==1.4.75->awscli==1.11.18) (1.16.0)\n",
      "Requirement already satisfied: pyasn1>=0.1.3 in c:\\users\\pichau\\anaconda3\\envs\\chatbotpython\\lib\\site-packages (from rsa<=3.5.0,>=3.1.2->awscli==1.11.18) (0.4.8)\n",
      "Requirement already satisfied: spacy in c:\\users\\pichau\\anaconda3\\envs\\chatbotpython\\lib\\site-packages (2.1.9)\n",
      "Requirement already satisfied: blis<0.3.0,>=0.2.2 in c:\\users\\pichau\\anaconda3\\envs\\chatbotpython\\lib\\site-packages (from spacy) (0.2.4)\n",
      "Requirement already satisfied: plac<1.0.0,>=0.9.6 in c:\\users\\pichau\\anaconda3\\envs\\chatbotpython\\lib\\site-packages (from spacy) (0.9.6)\n",
      "Requirement already satisfied: srsly<1.1.0,>=0.0.6 in c:\\users\\pichau\\anaconda3\\envs\\chatbotpython\\lib\\site-packages (from spacy) (1.0.5)\n",
      "Requirement already satisfied: requests<3.0.0,>=2.13.0 in c:\\users\\pichau\\anaconda3\\envs\\chatbotpython\\lib\\site-packages (from spacy) (2.26.0)\n",
      "Requirement already satisfied: thinc<7.1.0,>=7.0.8 in c:\\users\\pichau\\anaconda3\\envs\\chatbotpython\\lib\\site-packages (from spacy) (7.0.8)\n",
      "Requirement already satisfied: numpy>=1.15.0 in c:\\users\\pichau\\anaconda3\\envs\\chatbotpython\\lib\\site-packages (from spacy) (1.19.5)\n",
      "Requirement already satisfied: wasabi<1.1.0,>=0.2.0 in c:\\users\\pichau\\anaconda3\\envs\\chatbotpython\\lib\\site-packages (from spacy) (0.8.2)\n",
      "Requirement already satisfied: preshed<2.1.0,>=2.0.1 in c:\\users\\pichau\\anaconda3\\envs\\chatbotpython\\lib\\site-packages (from spacy) (2.0.1)\n",
      "Requirement already satisfied: cymem<2.1.0,>=2.0.2 in c:\\users\\pichau\\anaconda3\\envs\\chatbotpython\\lib\\site-packages (from spacy) (2.0.5)\n",
      "Requirement already satisfied: murmurhash<1.1.0,>=0.28.0 in c:\\users\\pichau\\anaconda3\\envs\\chatbotpython\\lib\\site-packages (from spacy) (1.0.5)\n",
      "Requirement already satisfied: certifi>=2017.4.17 in c:\\users\\pichau\\anaconda3\\envs\\chatbotpython\\lib\\site-packages (from requests<3.0.0,>=2.13.0->spacy) (2021.5.30)\n",
      "Requirement already satisfied: idna<4,>=2.5 in c:\\users\\pichau\\anaconda3\\envs\\chatbotpython\\lib\\site-packages (from requests<3.0.0,>=2.13.0->spacy) (3.2)\n",
      "Requirement already satisfied: charset-normalizer~=2.0.0 in c:\\users\\pichau\\anaconda3\\envs\\chatbotpython\\lib\\site-packages (from requests<3.0.0,>=2.13.0->spacy) (2.0.4)\n",
      "Requirement already satisfied: urllib3<1.27,>=1.21.1 in c:\\users\\pichau\\anaconda3\\envs\\chatbotpython\\lib\\site-packages (from requests<3.0.0,>=2.13.0->spacy) (1.26.6)\n",
      "Requirement already satisfied: tqdm<5.0.0,>=4.10.0 in c:\\users\\pichau\\anaconda3\\envs\\chatbotpython\\lib\\site-packages (from thinc<7.1.0,>=7.0.8->spacy) (4.62.2)\n",
      "Requirement already satisfied: colorama in c:\\users\\pichau\\anaconda3\\envs\\chatbotpython\\lib\\site-packages (from tqdm<5.0.0,>=4.10.0->thinc<7.1.0,>=7.0.8->spacy) (0.3.7)\n",
      "Requirement already satisfied: SpeechRecognition in c:\\users\\pichau\\anaconda3\\envs\\chatbotpython\\lib\\site-packages (3.8.1)\n",
      "Requirement already satisfied: pydub in c:\\users\\pichau\\anaconda3\\envs\\chatbotpython\\lib\\site-packages (0.25.1)\n",
      "Requirement already satisfied: gTTS in c:\\users\\pichau\\anaconda3\\envs\\chatbotpython\\lib\\site-packages (2.2.3)\n",
      "Requirement already satisfied: click in c:\\users\\pichau\\anaconda3\\envs\\chatbotpython\\lib\\site-packages (from gTTS) (7.1.2)\n",
      "Requirement already satisfied: six in c:\\users\\pichau\\anaconda3\\envs\\chatbotpython\\lib\\site-packages (from gTTS) (1.16.0)\n",
      "Requirement already satisfied: requests in c:\\users\\pichau\\anaconda3\\envs\\chatbotpython\\lib\\site-packages (from gTTS) (2.26.0)\n",
      "Requirement already satisfied: certifi>=2017.4.17 in c:\\users\\pichau\\anaconda3\\envs\\chatbotpython\\lib\\site-packages (from requests->gTTS) (2021.5.30)\n",
      "Requirement already satisfied: charset-normalizer~=2.0.0 in c:\\users\\pichau\\anaconda3\\envs\\chatbotpython\\lib\\site-packages (from requests->gTTS) (2.0.4)\n",
      "Requirement already satisfied: idna<4,>=2.5 in c:\\users\\pichau\\anaconda3\\envs\\chatbotpython\\lib\\site-packages (from requests->gTTS) (3.2)\n",
      "Requirement already satisfied: urllib3<1.27,>=1.21.1 in c:\\users\\pichau\\anaconda3\\envs\\chatbotpython\\lib\\site-packages (from requests->gTTS) (1.26.6)\n"
     ]
    }
   ],
   "source": [
    "#Instalando versão 1.0.4 do chaterbot (a versão normal não funciona aparentemente com o Anaconda 3.8)\n",
    "# Para ver a versão do chatterbot usa python -m chatterbot --version\n",
    "\n",
    "!pip install chatterbot==1.0.4\n",
    "!pip install ChatterBot-corpus\n",
    "!pip install awscli==1.11.18\n",
    "!pip install spacy\n",
    "!pip install SpeechRecognition\n",
    "!pip install pydub\n",
    "!pip install gTTS"
   ]
  },
  {
   "cell_type": "code",
   "execution_count": 2,
   "id": "783bdbbb",
   "metadata": {},
   "outputs": [
    {
     "name": "stdout",
     "output_type": "stream",
     "text": [
      "Requirement already satisfied: chatterbot_corpus in c:\\users\\pichau\\anaconda3\\envs\\chatbotpython\\lib\\site-packages (1.2.0)\n",
      "Requirement already satisfied: PyYAML<4.0,>=3.12 in c:\\users\\pichau\\anaconda3\\envs\\chatbotpython\\lib\\site-packages (from chatterbot_corpus) (3.13)\n"
     ]
    }
   ],
   "source": [
    "!pip3 install chatterbot_corpus"
   ]
  },
  {
   "cell_type": "code",
   "execution_count": 3,
   "id": "8d4ef526",
   "metadata": {},
   "outputs": [
    {
     "name": "stdout",
     "output_type": "stream",
     "text": [
      "Requirement already satisfied: pyttsx3 in c:\\users\\pichau\\anaconda3\\envs\\chatbotpython\\lib\\site-packages (2.90)\n",
      "Requirement already satisfied: pypiwin32 in c:\\users\\pichau\\anaconda3\\envs\\chatbotpython\\lib\\site-packages (from pyttsx3) (223)\n",
      "Requirement already satisfied: comtypes in c:\\users\\pichau\\anaconda3\\envs\\chatbotpython\\lib\\site-packages (from pyttsx3) (1.1.10)\n",
      "Requirement already satisfied: pywin32 in c:\\users\\pichau\\anaconda3\\envs\\chatbotpython\\lib\\site-packages (from pyttsx3) (301)\n",
      "Requirement already satisfied: pipwin in c:\\users\\pichau\\anaconda3\\envs\\chatbotpython\\lib\\site-packages (0.5.1)\n",
      "Requirement already satisfied: packaging in c:\\users\\pichau\\anaconda3\\envs\\chatbotpython\\lib\\site-packages (from pipwin) (21.0)\n",
      "Requirement already satisfied: pySmartDL>=1.3.1 in c:\\users\\pichau\\anaconda3\\envs\\chatbotpython\\lib\\site-packages (from pipwin) (1.3.4)\n",
      "Requirement already satisfied: pyprind in c:\\users\\pichau\\anaconda3\\envs\\chatbotpython\\lib\\site-packages (from pipwin) (2.11.3)\n",
      "Requirement already satisfied: js2py in c:\\users\\pichau\\anaconda3\\envs\\chatbotpython\\lib\\site-packages (from pipwin) (0.71)\n",
      "Requirement already satisfied: requests in c:\\users\\pichau\\anaconda3\\envs\\chatbotpython\\lib\\site-packages (from pipwin) (2.26.0)\n",
      "Requirement already satisfied: docopt in c:\\users\\pichau\\anaconda3\\envs\\chatbotpython\\lib\\site-packages (from pipwin) (0.6.2)\n",
      "Requirement already satisfied: beautifulsoup4>=4.9.0 in c:\\users\\pichau\\anaconda3\\envs\\chatbotpython\\lib\\site-packages (from pipwin) (4.10.0)\n",
      "Requirement already satisfied: six in c:\\users\\pichau\\anaconda3\\envs\\chatbotpython\\lib\\site-packages (from pipwin) (1.16.0)\n",
      "Requirement already satisfied: soupsieve>1.2 in c:\\users\\pichau\\anaconda3\\envs\\chatbotpython\\lib\\site-packages (from beautifulsoup4>=4.9.0->pipwin) (2.2.1)\n",
      "Requirement already satisfied: tzlocal>=1.2 in c:\\users\\pichau\\anaconda3\\envs\\chatbotpython\\lib\\site-packages (from js2py->pipwin) (3.0)\n",
      "Requirement already satisfied: pyjsparser>=2.5.1 in c:\\users\\pichau\\anaconda3\\envs\\chatbotpython\\lib\\site-packages (from js2py->pipwin) (2.7.1)\n",
      "Requirement already satisfied: tzdata in c:\\users\\pichau\\anaconda3\\envs\\chatbotpython\\lib\\site-packages (from tzlocal>=1.2->js2py->pipwin) (2021.1)\n",
      "Requirement already satisfied: backports.zoneinfo in c:\\users\\pichau\\anaconda3\\envs\\chatbotpython\\lib\\site-packages (from tzlocal>=1.2->js2py->pipwin) (0.2.1)\n",
      "Requirement already satisfied: importlib-resources in c:\\users\\pichau\\anaconda3\\envs\\chatbotpython\\lib\\site-packages (from backports.zoneinfo->tzlocal>=1.2->js2py->pipwin) (5.2.2)\n",
      "Requirement already satisfied: zipp>=3.1.0 in c:\\users\\pichau\\anaconda3\\envs\\chatbotpython\\lib\\site-packages (from importlib-resources->backports.zoneinfo->tzlocal>=1.2->js2py->pipwin) (3.5.0)\n",
      "Requirement already satisfied: pyparsing>=2.0.2 in c:\\users\\pichau\\anaconda3\\envs\\chatbotpython\\lib\\site-packages (from packaging->pipwin) (2.4.7)\n",
      "Requirement already satisfied: charset-normalizer~=2.0.0 in c:\\users\\pichau\\anaconda3\\envs\\chatbotpython\\lib\\site-packages (from requests->pipwin) (2.0.4)\n",
      "Requirement already satisfied: idna<4,>=2.5 in c:\\users\\pichau\\anaconda3\\envs\\chatbotpython\\lib\\site-packages (from requests->pipwin) (3.2)\n",
      "Requirement already satisfied: urllib3<1.27,>=1.21.1 in c:\\users\\pichau\\anaconda3\\envs\\chatbotpython\\lib\\site-packages (from requests->pipwin) (1.26.6)\n",
      "Requirement already satisfied: certifi>=2017.4.17 in c:\\users\\pichau\\anaconda3\\envs\\chatbotpython\\lib\\site-packages (from requests->pipwin) (2021.5.30)\n",
      "Requirement already satisfied: playsound in c:\\users\\pichau\\anaconda3\\envs\\chatbotpython\\lib\\site-packages (1.3.0)\n"
     ]
    }
   ],
   "source": [
    "!pip install pyttsx3\n",
    "!pip install pipwin\n",
    "!pip install playsound\n"
   ]
  },
  {
   "cell_type": "code",
   "execution_count": 4,
   "id": "1d7bfa3b",
   "metadata": {},
   "outputs": [
    {
     "name": "stdout",
     "output_type": "stream",
     "text": [
      "Requirement already satisfied: pyaudio in c:\\users\\pichau\\anaconda3\\envs\\chatbotpython\\lib\\site-packages (0.2.11)\n"
     ]
    }
   ],
   "source": [
    "\n",
    "#CMD antes\n",
    "#  pip install pipwin\n",
    "#  pipwin install pyaudio\n",
    "\n",
    "!pip install pyaudio"
   ]
  },
  {
   "cell_type": "code",
   "execution_count": 5,
   "id": "404803df",
   "metadata": {},
   "outputs": [
    {
     "name": "stdout",
     "output_type": "stream",
     "text": [
      "Requirement already satisfied: pyyaml in c:\\users\\pichau\\anaconda3\\envs\\chatbotpython\\lib\\site-packages (3.13)\n"
     ]
    }
   ],
   "source": [
    "!pip install pyyaml"
   ]
  },
  {
   "cell_type": "code",
   "execution_count": 6,
   "id": "974d500f",
   "metadata": {},
   "outputs": [
    {
     "name": "stdout",
     "output_type": "stream",
     "text": [
      "Requirement already satisfied: chatterbot-corpus in c:\\users\\pichau\\anaconda3\\envs\\chatbotpython\\lib\\site-packages (1.2.0)\n",
      "Requirement already satisfied: PyYAML<4.0,>=3.12 in c:\\users\\pichau\\anaconda3\\envs\\chatbotpython\\lib\\site-packages (from chatterbot-corpus) (3.13)\n"
     ]
    }
   ],
   "source": [
    "!pip3 install chatterbot-corpus"
   ]
  },
  {
   "cell_type": "code",
   "execution_count": 7,
   "id": "c1d272af",
   "metadata": {},
   "outputs": [],
   "source": [
    "# ir até o local C:\\Users\\Raquel\\anaconda3\\Lib\\site-packages\\sqlalchemy\\util, \n",
    "# abrir o arquivo compat e editar a linha 264 (colocar time.time no lugar de time.clock . Time.clock dá erro no Anaconda 3.8)\n",
    "\n",
    "from chatterbot import ChatBot\n",
    "\n",
    "# Trainer é a lista de diálogos que serão base de diálogo do bot.\n",
    "# Trainer está usando as formas Curpus e List: \n",
    "# Corpus é um arquivo que contém diálogos comuns (documentaçao em https://github.com/gunthercox/chatterbot-corpus/blob/master/chatterbot_corpus/data/portuguese/compliment.yml)\n",
    "# e list é uma lista criada por mim\n",
    "from chatterbot.trainers import ListTrainer\n",
    "from chatterbot.trainers import ChatterBotCorpusTrainer\n",
    "\n",
    "# flask  é um micro framework que utiliza a linguagem Python para criar aplicativos Web.\n",
    "# https://towardsdatascience.com/beginners-guide-to-creating-a-powerful-chatbot-48fc6b073e55\n",
    "# https://github.com/louisteo9/chatbot/blob/main/chatbot_training.py\n",
    "from flask import Flask, render_template, request\n",
    "\n",
    "\n",
    "#Importar Speech Recognation\n",
    "import speech_recognition as sr\n",
    "\n",
    "\n",
    "import pyttsx3  \n",
    "\n",
    "from gtts import gTTS\n",
    "from playsound import playsound \n",
    "\n",
    "# from pydub import AudioSegment\n",
    "# from pydub.utils import make_chunks\n",
    "# import matplotlib.pyplot as plt\n",
    "# from wordcloud import WordCloud\n",
    "\n",
    "# Esse banco criado é onde o chatbot vai guardar as respostas das minhas interações com ele, \n",
    "# e a partir delas, aprender e refinar a “conversa”\n",
    "# O único parametro exigido para o Chatbot é o nome (no caso, Luna)\n",
    "# Preprocessor são declarados para limpar espaços,converter caracteres html etc."
   ]
  },
  {
   "cell_type": "code",
   "execution_count": 8,
   "id": "2b1713fd",
   "metadata": {},
   "outputs": [
    {
     "name": "stdout",
     "output_type": "stream",
     "text": [
      "\r",
      "List Trainer: [#                   ] 5%"
     ]
    },
    {
     "name": "stderr",
     "output_type": "stream",
     "text": [
      "[nltk_data] Downloading package averaged_perceptron_tagger to\n",
      "[nltk_data]     C:\\Users\\Pichau\\AppData\\Roaming\\nltk_data...\n",
      "[nltk_data]   Package averaged_perceptron_tagger is already up-to-\n",
      "[nltk_data]       date!\n",
      "[nltk_data] Downloading package punkt to\n",
      "[nltk_data]     C:\\Users\\Pichau\\AppData\\Roaming\\nltk_data...\n",
      "[nltk_data]   Package punkt is already up-to-date!\n",
      "[nltk_data] Downloading package stopwords to\n",
      "[nltk_data]     C:\\Users\\Pichau\\AppData\\Roaming\\nltk_data...\n",
      "[nltk_data]   Package stopwords is already up-to-date!\n"
     ]
    },
    {
     "name": "stdout",
     "output_type": "stream",
     "text": [
      "List Trainer: [####################] 100%\n"
     ]
    }
   ],
   "source": [
    "bot = ChatBot(\n",
    "    \"Luna\", \n",
    "storage_adapter='chatterbot.storage.SQLStorageAdapter', \n",
    "    logic_adapters = [\n",
    "        #'chatterbot.logic.TimeLogicAdapter',\n",
    "        'chatterbot.logic.BestMatch',  \n",
    "        'chatterbot.logic.MathematicalEvaluation'\n",
    "    ],\n",
    "    preprocessors = [\n",
    "        'chatterbot.preprocessors.clean_whitespace',\n",
    "        'chatterbot.preprocessors.unescape_html',\n",
    "        'chatterbot.preprocessors.convert_to_ascii'\n",
    "    ], \n",
    "database='database.sqlite3',\n",
    "\n",
    "# Diz para o chaterbot se ele quer ou não armazene as conversas para responter mensagens futuras\n",
    "read_only = False\n",
    ")\n",
    "\n",
    "# Pode-se também usar uma base de treinamento\n",
    "conversa = ListTrainer(bot)\n",
    "conversa.train([\n",
    "    'Qual o seu nome?', 'Luna, sua amiga bot',\n",
    "    'Qual a sua bebida favorita?','',\n",
    "    'Conhece a Siri?', 'Conheço, a gente saiu por um tempo.',\n",
    "    'Conte uma história', 'Tudo começou com a forja dos Grandes Aneis. Três foram dados aos Elfos, imortais... os mais sabios e belos de todos os seres. Sete, aos Senhores-Anões...',\n",
    "    'Cante uma música', 'la la la la la la la',\n",
    "    'Quantos anos você tem?', 'Eu nasci em 2021, sou um baby, rs.',\n",
    "    'Conte uma piada?', 'Pau no cu do Bolsonaro.',\n",
    "    'Qual o seu gênero?', 'Sou um chatbot e gosto de algoritmos','O que você faz?', 'Eu bebo e sei das coisas',\n",
    "    'Prazer em te conhecer', 'Igualmente meu querido',\n",
    "])\n",
    "\n",
    "# aqui pode ser usado a base portuguese\n",
    "# conversa = ChatterBotCorpusTrainer(bot)\n",
    "# conversa.train('chatterbot.corpus.portuguese')\n",
    "\n",
    "# ou também pode-se usar uma outra criada - ex: conversa.train(''arquivoDeTreino.yml'')\n",
    "# conversa = ListTrainer(bot)\n",
    "# conversa =  conversa.train('arquivoDeTreino.txt')\n"
   ]
  },
  {
   "cell_type": "code",
   "execution_count": 9,
   "id": "28090b6d",
   "metadata": {},
   "outputs": [],
   "source": [
    "def ouvir_microfone():\n",
    "    microfone=sr.Recognizer()\n",
    "    with sr.Microphone() as source:\n",
    "        microfone.adjust_for_ambient_noise(source)\n",
    "        print(\"Estou ouvindo...\")\n",
    "        audio=microfone.listen(source)\n",
    "        try:\n",
    "            \n",
    "            frase=microfone.recognize_google(audio,language='pt-BR')\n",
    "        except sr.UnknownValueError:\n",
    "            print('Luna:Não entendi')\n",
    "        return frase"
   ]
  },
  {
   "cell_type": "code",
   "execution_count": 10,
   "id": "ed68bd62",
   "metadata": {},
   "outputs": [],
   "source": [
    "def criar_audio(audio):\n",
    "    tts= gTTS(audio, lang=\"pt-BR\")\n",
    "    tts.save('botvoice.mp3')\n",
    "    playsound('botvoice.mp3')"
   ]
  },
  {
   "cell_type": "code",
   "execution_count": 11,
   "id": "ef8023be",
   "metadata": {},
   "outputs": [
    {
     "name": "stdout",
     "output_type": "stream",
     "text": [
      "Estou ouvindo...\n",
      "Luna:Não entendi\n"
     ]
    },
    {
     "ename": "UnboundLocalError",
     "evalue": "local variable 'frase' referenced before assignment",
     "output_type": "error",
     "traceback": [
      "\u001b[1;31m---------------------------------------------------------------------------\u001b[0m",
      "\u001b[1;31mUnboundLocalError\u001b[0m                         Traceback (most recent call last)",
      "\u001b[1;32m<ipython-input-11-fc159399f50e>\u001b[0m in \u001b[0;36m<module>\u001b[1;34m\u001b[0m\n\u001b[0;32m      1\u001b[0m \u001b[1;32mwhile\u001b[0m \u001b[1;32mTrue\u001b[0m\u001b[1;33m:\u001b[0m\u001b[1;33m\u001b[0m\u001b[1;33m\u001b[0m\u001b[0m\n\u001b[1;32m----> 2\u001b[1;33m     \u001b[0mmensagem\u001b[0m \u001b[1;33m=\u001b[0m \u001b[0mouvir_microfone\u001b[0m\u001b[1;33m(\u001b[0m\u001b[1;33m)\u001b[0m \u001b[1;31m#(\"Em que eu posso ajudar?\")\u001b[0m\u001b[1;33m\u001b[0m\u001b[1;33m\u001b[0m\u001b[0m\n\u001b[0m\u001b[0;32m      3\u001b[0m     \u001b[1;32mif\u001b[0m \u001b[0mmensagem\u001b[0m \u001b[1;33m==\u001b[0m \u001b[1;34m\"obrigado\"\u001b[0m\u001b[1;33m:\u001b[0m\u001b[1;33m\u001b[0m\u001b[1;33m\u001b[0m\u001b[0m\n\u001b[0;32m      4\u001b[0m         \u001b[0mprint\u001b[0m\u001b[1;33m(\u001b[0m\u001b[1;34m\"Me chame quando eu puder ajudar\"\u001b[0m\u001b[1;33m)\u001b[0m\u001b[1;33m\u001b[0m\u001b[1;33m\u001b[0m\u001b[0m\n\u001b[0;32m      5\u001b[0m         \u001b[1;32mbreak\u001b[0m\u001b[1;33m\u001b[0m\u001b[1;33m\u001b[0m\u001b[0m\n",
      "\u001b[1;32m<ipython-input-9-281b6ce083d6>\u001b[0m in \u001b[0;36mouvir_microfone\u001b[1;34m()\u001b[0m\n\u001b[0;32m     10\u001b[0m         \u001b[1;32mexcept\u001b[0m \u001b[0msr\u001b[0m\u001b[1;33m.\u001b[0m\u001b[0mUnknownValueError\u001b[0m\u001b[1;33m:\u001b[0m\u001b[1;33m\u001b[0m\u001b[1;33m\u001b[0m\u001b[0m\n\u001b[0;32m     11\u001b[0m             \u001b[0mprint\u001b[0m\u001b[1;33m(\u001b[0m\u001b[1;34m'Luna:Não entendi'\u001b[0m\u001b[1;33m)\u001b[0m\u001b[1;33m\u001b[0m\u001b[1;33m\u001b[0m\u001b[0m\n\u001b[1;32m---> 12\u001b[1;33m         \u001b[1;32mreturn\u001b[0m \u001b[0mfrase\u001b[0m\u001b[1;33m\u001b[0m\u001b[1;33m\u001b[0m\u001b[0m\n\u001b[0m",
      "\u001b[1;31mUnboundLocalError\u001b[0m: local variable 'frase' referenced before assignment"
     ]
    }
   ],
   "source": [
    "while True:\n",
    "    mensagem = ouvir_microfone() #(\"Em que eu posso ajudar?\")\n",
    "    if mensagem == \"obrigado\":\n",
    "        print(\"Me chame quando eu puder ajudar\")\n",
    "        break\n",
    "    resposta = ChatBot.get_response (mensagem)\n",
    "    criar_audio(str(resposta))\n",
    "    print(resposta)"
   ]
  },
  {
   "cell_type": "code",
   "execution_count": null,
   "id": "5dcecb3f",
   "metadata": {},
   "outputs": [],
   "source": [
    "# # arquivos                                                                         \n",
    "# audio_mp3 = 'Vicios_e_Virtudes.mp3'\n",
    "# audio_wav = 'Vicios_e_Virtudes.wav'\n",
    "\n",
    "# # conversão de mp3 para wav                                                           \n",
    "# sound = AudioSegment.from_mp3(audio_mp3)\n",
    "# sound.export(audio_wav, format='wav')"
   ]
  },
  {
   "cell_type": "code",
   "execution_count": null,
   "id": "b97c9287",
   "metadata": {},
   "outputs": [],
   "source": [
    "\n",
    "# # selecionando audio\n",
    "# audio = AudioSegment.from_file(audio_wav, 'wav')\n",
    "# # Tamanho em milisegundos\n",
    "# tamanho = 30000\n",
    "# # divisão do audio em partes\n",
    "# partes = make_chunks (audio, tamanho) \n",
    "# partes_audio =[]\n",
    "# for i, parte in enumerate(partes):\n",
    "#     # Enumerando arquivo particionado\n",
    "#     parte_name = 'Vicios{0}.wav'.format(i)\n",
    "#     # Guardando os nomes das partições em uma lista\n",
    "#     partes_audio.append(parte_name)\n",
    "#     # Exportando arquivos\n",
    "#     parte.export(parte_name, format='wav')"
   ]
  },
  {
   "cell_type": "code",
   "execution_count": null,
   "id": "20e68ca9",
   "metadata": {},
   "outputs": [],
   "source": [
    "# def transcreve_audio(nome_audio):\n",
    "#   # Selecione o audio para reconhecimento\n",
    "#   r = sr.Recognizer()\n",
    "#   with sr.AudioFile(nome_audio) as source:\n",
    "#     audio = r.record(source)  # leitura do arquivo de audio\n",
    "\n",
    "#   # Reconhecimento usando o Google Speech Recognition\n",
    "#   try:\n",
    "#     print('Google Speech Recognition: ' + r.recognize_google(audio,language='pt-BR'))\n",
    "#     texto = r.recognize_google(audio,language='pt-BR')\n",
    "#   except sr.UnknownValueError:\n",
    "#     print('Google Speech Recognition NÃO ENTENDEU o audio')\n",
    "#     texto = ''\n",
    "#   except sr.RequestError as e:\n",
    "#     print('Erro ao solicitar resultados do serviço Google Speech Recognition; {0}'.format(e))\n",
    "#     texto = ''\n",
    "#   return texto"
   ]
  },
  {
   "cell_type": "code",
   "execution_count": null,
   "id": "ea5bf469",
   "metadata": {},
   "outputs": [],
   "source": [
    "# # Aplicando a função de reconhecimento de voz em cada parte\n",
    "# texto = ''\n",
    "# for parte in partes_audio:\n",
    "#   texto = texto + ' ' + transcreve_audio(parte)"
   ]
  },
  {
   "cell_type": "code",
   "execution_count": null,
   "id": "efad1afb",
   "metadata": {},
   "outputs": [],
   "source": [
    "#Limpar memoria\n",
    "#chatbot.storage.drop()"
   ]
  },
  {
   "cell_type": "code",
   "execution_count": null,
   "id": "0ec32818",
   "metadata": {},
   "outputs": [],
   "source": [
    "#Pegar uma resposta\n",
    "#bot.get_response(\"Luna\")"
   ]
  }
 ],
 "metadata": {
  "kernelspec": {
   "display_name": "Python 3",
   "language": "python",
   "name": "python3"
  },
  "language_info": {
   "codemirror_mode": {
    "name": "ipython",
    "version": 3
   },
   "file_extension": ".py",
   "mimetype": "text/x-python",
   "name": "python",
   "nbconvert_exporter": "python",
   "pygments_lexer": "ipython3",
   "version": "3.6.13"
  }
 },
 "nbformat": 4,
 "nbformat_minor": 5
}
